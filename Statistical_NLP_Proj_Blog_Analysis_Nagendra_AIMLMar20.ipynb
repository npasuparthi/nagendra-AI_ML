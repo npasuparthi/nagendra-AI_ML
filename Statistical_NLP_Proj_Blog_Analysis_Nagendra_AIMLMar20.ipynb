{
  "nbformat": 4,
  "nbformat_minor": 0,
  "metadata": {
    "accelerator": "GPU",
    "colab": {
      "name": "Statistical_NLP_Proj_Blog_Analysis_Nagendra_AIMLMar20.ipynb",
      "provenance": [],
      "include_colab_link": true
    },
    "kernelspec": {
      "display_name": "Python 3",
      "language": "python",
      "name": "python3"
    },
    "language_info": {
      "codemirror_mode": {
        "name": "ipython",
        "version": 3
      },
      "file_extension": ".py",
      "mimetype": "text/x-python",
      "name": "python",
      "nbconvert_exporter": "python",
      "pygments_lexer": "ipython3",
      "version": "3.8.3"
    }
  },
  "cells": [
    {
      "cell_type": "markdown",
      "metadata": {
        "id": "view-in-github",
        "colab_type": "text"
      },
      "source": [
        "<a href=\"https://colab.research.google.com/github/npasuparthi/nagendra-AI_ML/blob/master/Statistical_NLP_Proj_Blog_Analysis_Nagendra_AIMLMar20.ipynb\" target=\"_parent\"><img src=\"https://colab.research.google.com/assets/colab-badge.svg\" alt=\"Open In Colab\"/></a>"
      ]
    },
    {
      "cell_type": "code",
      "metadata": {
        "id": "xkHG0dUc2ab-"
      },
      "source": [
        "import pandas as pd\n",
        "import numpy as np\n",
        "import re \n",
        "import nltk\n",
        "from sklearn.feature_extraction.text import CountVectorizer\n"
      ],
      "execution_count": 5,
      "outputs": []
    },
    {
      "cell_type": "code",
      "metadata": {
        "colab": {
          "base_uri": "https://localhost:8080/"
        },
        "id": "7xsrBd5B2e81",
        "outputId": "e9825b55-8cc0-4be9-c1fb-f6767622f3a9"
      },
      "source": [
        "from google.colab import drive\n",
        "drive.mount('/content/drive')"
      ],
      "execution_count": 6,
      "outputs": [
        {
          "output_type": "stream",
          "text": [
            "Drive already mounted at /content/drive; to attempt to forcibly remount, call drive.mount(\"/content/drive\", force_remount=True).\n"
          ],
          "name": "stdout"
        }
      ]
    },
    {
      "cell_type": "code",
      "metadata": {
        "id": "xk1v_VOJ2acD"
      },
      "source": [
        "# 1. Import the dataset\n",
        "df = pd.read_csv('/content/drive/MyDrive/NLP/BlogProject/blogtext.csv')"
      ],
      "execution_count": 7,
      "outputs": []
    },
    {
      "cell_type": "code",
      "metadata": {
        "colab": {
          "base_uri": "https://localhost:8080/",
          "height": 295
        },
        "id": "rsQRWdOB2acE",
        "outputId": "38cda70a-3d51-49f7-8eb6-14c201d11a59"
      },
      "source": [
        "#1. Analyze the dataset\n",
        "df.describe()"
      ],
      "execution_count": 8,
      "outputs": [
        {
          "output_type": "execute_result",
          "data": {
            "text/html": [
              "<div>\n",
              "<style scoped>\n",
              "    .dataframe tbody tr th:only-of-type {\n",
              "        vertical-align: middle;\n",
              "    }\n",
              "\n",
              "    .dataframe tbody tr th {\n",
              "        vertical-align: top;\n",
              "    }\n",
              "\n",
              "    .dataframe thead th {\n",
              "        text-align: right;\n",
              "    }\n",
              "</style>\n",
              "<table border=\"1\" class=\"dataframe\">\n",
              "  <thead>\n",
              "    <tr style=\"text-align: right;\">\n",
              "      <th></th>\n",
              "      <th>id</th>\n",
              "      <th>age</th>\n",
              "    </tr>\n",
              "  </thead>\n",
              "  <tbody>\n",
              "    <tr>\n",
              "      <th>count</th>\n",
              "      <td>6.812840e+05</td>\n",
              "      <td>681284.000000</td>\n",
              "    </tr>\n",
              "    <tr>\n",
              "      <th>mean</th>\n",
              "      <td>2.397802e+06</td>\n",
              "      <td>23.932326</td>\n",
              "    </tr>\n",
              "    <tr>\n",
              "      <th>std</th>\n",
              "      <td>1.247723e+06</td>\n",
              "      <td>7.786009</td>\n",
              "    </tr>\n",
              "    <tr>\n",
              "      <th>min</th>\n",
              "      <td>5.114000e+03</td>\n",
              "      <td>13.000000</td>\n",
              "    </tr>\n",
              "    <tr>\n",
              "      <th>25%</th>\n",
              "      <td>1.239610e+06</td>\n",
              "      <td>17.000000</td>\n",
              "    </tr>\n",
              "    <tr>\n",
              "      <th>50%</th>\n",
              "      <td>2.607577e+06</td>\n",
              "      <td>24.000000</td>\n",
              "    </tr>\n",
              "    <tr>\n",
              "      <th>75%</th>\n",
              "      <td>3.525660e+06</td>\n",
              "      <td>26.000000</td>\n",
              "    </tr>\n",
              "    <tr>\n",
              "      <th>max</th>\n",
              "      <td>4.337650e+06</td>\n",
              "      <td>48.000000</td>\n",
              "    </tr>\n",
              "  </tbody>\n",
              "</table>\n",
              "</div>"
            ],
            "text/plain": [
              "                 id            age\n",
              "count  6.812840e+05  681284.000000\n",
              "mean   2.397802e+06      23.932326\n",
              "std    1.247723e+06       7.786009\n",
              "min    5.114000e+03      13.000000\n",
              "25%    1.239610e+06      17.000000\n",
              "50%    2.607577e+06      24.000000\n",
              "75%    3.525660e+06      26.000000\n",
              "max    4.337650e+06      48.000000"
            ]
          },
          "metadata": {
            "tags": []
          },
          "execution_count": 8
        }
      ]
    },
    {
      "cell_type": "code",
      "metadata": {
        "colab": {
          "base_uri": "https://localhost:8080/",
          "height": 203
        },
        "id": "TV6rTzvl2acF",
        "outputId": "0d66ec85-a7a9-4aed-9b47-348a577678d7"
      },
      "source": [
        "df.head()"
      ],
      "execution_count": 9,
      "outputs": [
        {
          "output_type": "execute_result",
          "data": {
            "text/html": [
              "<div>\n",
              "<style scoped>\n",
              "    .dataframe tbody tr th:only-of-type {\n",
              "        vertical-align: middle;\n",
              "    }\n",
              "\n",
              "    .dataframe tbody tr th {\n",
              "        vertical-align: top;\n",
              "    }\n",
              "\n",
              "    .dataframe thead th {\n",
              "        text-align: right;\n",
              "    }\n",
              "</style>\n",
              "<table border=\"1\" class=\"dataframe\">\n",
              "  <thead>\n",
              "    <tr style=\"text-align: right;\">\n",
              "      <th></th>\n",
              "      <th>id</th>\n",
              "      <th>gender</th>\n",
              "      <th>age</th>\n",
              "      <th>topic</th>\n",
              "      <th>sign</th>\n",
              "      <th>date</th>\n",
              "      <th>text</th>\n",
              "    </tr>\n",
              "  </thead>\n",
              "  <tbody>\n",
              "    <tr>\n",
              "      <th>0</th>\n",
              "      <td>2059027</td>\n",
              "      <td>male</td>\n",
              "      <td>15</td>\n",
              "      <td>Student</td>\n",
              "      <td>Leo</td>\n",
              "      <td>14,May,2004</td>\n",
              "      <td>Info has been found (+/- 100 pages,...</td>\n",
              "    </tr>\n",
              "    <tr>\n",
              "      <th>1</th>\n",
              "      <td>2059027</td>\n",
              "      <td>male</td>\n",
              "      <td>15</td>\n",
              "      <td>Student</td>\n",
              "      <td>Leo</td>\n",
              "      <td>13,May,2004</td>\n",
              "      <td>These are the team members:   Drewe...</td>\n",
              "    </tr>\n",
              "    <tr>\n",
              "      <th>2</th>\n",
              "      <td>2059027</td>\n",
              "      <td>male</td>\n",
              "      <td>15</td>\n",
              "      <td>Student</td>\n",
              "      <td>Leo</td>\n",
              "      <td>12,May,2004</td>\n",
              "      <td>In het kader van kernfusie op aarde...</td>\n",
              "    </tr>\n",
              "    <tr>\n",
              "      <th>3</th>\n",
              "      <td>2059027</td>\n",
              "      <td>male</td>\n",
              "      <td>15</td>\n",
              "      <td>Student</td>\n",
              "      <td>Leo</td>\n",
              "      <td>12,May,2004</td>\n",
              "      <td>testing!!!  testing!!!</td>\n",
              "    </tr>\n",
              "    <tr>\n",
              "      <th>4</th>\n",
              "      <td>3581210</td>\n",
              "      <td>male</td>\n",
              "      <td>33</td>\n",
              "      <td>InvestmentBanking</td>\n",
              "      <td>Aquarius</td>\n",
              "      <td>11,June,2004</td>\n",
              "      <td>Thanks to Yahoo!'s Toolbar I can ...</td>\n",
              "    </tr>\n",
              "  </tbody>\n",
              "</table>\n",
              "</div>"
            ],
            "text/plain": [
              "        id  ...                                               text\n",
              "0  2059027  ...             Info has been found (+/- 100 pages,...\n",
              "1  2059027  ...             These are the team members:   Drewe...\n",
              "2  2059027  ...             In het kader van kernfusie op aarde...\n",
              "3  2059027  ...                   testing!!!  testing!!!          \n",
              "4  3581210  ...               Thanks to Yahoo!'s Toolbar I can ...\n",
              "\n",
              "[5 rows x 7 columns]"
            ]
          },
          "metadata": {
            "tags": []
          },
          "execution_count": 9
        }
      ]
    },
    {
      "cell_type": "code",
      "metadata": {
        "colab": {
          "base_uri": "https://localhost:8080/"
        },
        "id": "Z2FggZxU2acG",
        "outputId": "b447c2a4-fa7b-4bc0-89a1-2e644ada129c"
      },
      "source": [
        "df.shape"
      ],
      "execution_count": 10,
      "outputs": [
        {
          "output_type": "execute_result",
          "data": {
            "text/plain": [
              "(681284, 7)"
            ]
          },
          "metadata": {
            "tags": []
          },
          "execution_count": 10
        }
      ]
    },
    {
      "cell_type": "code",
      "metadata": {
        "colab": {
          "base_uri": "https://localhost:8080/"
        },
        "id": "J6xmOdl42acG",
        "outputId": "94e74190-244f-44fa-9a5a-4c2241edb0da"
      },
      "source": [
        "df.nunique(axis=0)"
      ],
      "execution_count": 11,
      "outputs": [
        {
          "output_type": "execute_result",
          "data": {
            "text/plain": [
              "id         19320\n",
              "gender         2\n",
              "age           26\n",
              "topic         40\n",
              "sign          12\n",
              "date        2616\n",
              "text      611652\n",
              "dtype: int64"
            ]
          },
          "metadata": {
            "tags": []
          },
          "execution_count": 11
        }
      ]
    },
    {
      "cell_type": "code",
      "metadata": {
        "colab": {
          "base_uri": "https://localhost:8080/"
        },
        "id": "tXmc5sNZ2acH",
        "outputId": "bb1c76cc-cc48-4274-999f-8a5628271ec8"
      },
      "source": [
        "# there are no missing entries\n",
        "df.isna().any()"
      ],
      "execution_count": 12,
      "outputs": [
        {
          "output_type": "execute_result",
          "data": {
            "text/plain": [
              "id        False\n",
              "gender    False\n",
              "age       False\n",
              "topic     False\n",
              "sign      False\n",
              "date      False\n",
              "text      False\n",
              "dtype: bool"
            ]
          },
          "metadata": {
            "tags": []
          },
          "execution_count": 12
        }
      ]
    },
    {
      "cell_type": "code",
      "metadata": {
        "colab": {
          "base_uri": "https://localhost:8080/"
        },
        "id": "g7sNst012acI",
        "outputId": "e1ec160f-2692-4b92-93ec-b929e89bb723"
      },
      "source": [
        "df.dtypes"
      ],
      "execution_count": 13,
      "outputs": [
        {
          "output_type": "execute_result",
          "data": {
            "text/plain": [
              "id         int64\n",
              "gender    object\n",
              "age        int64\n",
              "topic     object\n",
              "sign      object\n",
              "date      object\n",
              "text      object\n",
              "dtype: object"
            ]
          },
          "metadata": {
            "tags": []
          },
          "execution_count": 13
        }
      ]
    },
    {
      "cell_type": "code",
      "metadata": {
        "id": "m-rbCsA92acI"
      },
      "source": [
        "# comment out once done\n",
        "dfSampl = df.sample(30000)"
      ],
      "execution_count": 121,
      "outputs": []
    },
    {
      "cell_type": "code",
      "metadata": {
        "id": "PHZIgaPS2acJ"
      },
      "source": [
        "#2. data pre-processing "
      ],
      "execution_count": 122,
      "outputs": []
    },
    {
      "cell_type": "code",
      "metadata": {
        "id": "zkNqIFxLN2jk"
      },
      "source": [
        "dfSampl.loc[(dfSampl['age'] >= 13) & (dfSampl['age'] <=17), 'Age'] = 10\n",
        "dfSampl.loc[(dfSampl['age'] >= 23) & (dfSampl['age'] <=27), 'Age'] = 20\n",
        "dfSampl.loc[(dfSampl['age'] >= 33) & (dfSampl['age'] <=47), 'Age'] = 30\n"
      ],
      "execution_count": 123,
      "outputs": []
    },
    {
      "cell_type": "code",
      "metadata": {
        "colab": {
          "base_uri": "https://localhost:8080/",
          "height": 295
        },
        "id": "ijNsjmbYPPNx",
        "outputId": "4e58c797-a888-446e-dba1-f7071c9e4976"
      },
      "source": [
        "dfSampl.describe()"
      ],
      "execution_count": 124,
      "outputs": [
        {
          "output_type": "execute_result",
          "data": {
            "text/html": [
              "<div>\n",
              "<style scoped>\n",
              "    .dataframe tbody tr th:only-of-type {\n",
              "        vertical-align: middle;\n",
              "    }\n",
              "\n",
              "    .dataframe tbody tr th {\n",
              "        vertical-align: top;\n",
              "    }\n",
              "\n",
              "    .dataframe thead th {\n",
              "        text-align: right;\n",
              "    }\n",
              "</style>\n",
              "<table border=\"1\" class=\"dataframe\">\n",
              "  <thead>\n",
              "    <tr style=\"text-align: right;\">\n",
              "      <th></th>\n",
              "      <th>id</th>\n",
              "      <th>age</th>\n",
              "      <th>Age</th>\n",
              "    </tr>\n",
              "  </thead>\n",
              "  <tbody>\n",
              "    <tr>\n",
              "      <th>count</th>\n",
              "      <td>3.000000e+04</td>\n",
              "      <td>30000.000000</td>\n",
              "      <td>29822.000000</td>\n",
              "    </tr>\n",
              "    <tr>\n",
              "      <th>mean</th>\n",
              "      <td>2.395573e+06</td>\n",
              "      <td>23.934733</td>\n",
              "      <td>18.270740</td>\n",
              "    </tr>\n",
              "    <tr>\n",
              "      <th>std</th>\n",
              "      <td>1.248408e+06</td>\n",
              "      <td>7.826343</td>\n",
              "      <td>7.061748</td>\n",
              "    </tr>\n",
              "    <tr>\n",
              "      <th>min</th>\n",
              "      <td>5.114000e+03</td>\n",
              "      <td>13.000000</td>\n",
              "      <td>10.000000</td>\n",
              "    </tr>\n",
              "    <tr>\n",
              "      <th>25%</th>\n",
              "      <td>1.226466e+06</td>\n",
              "      <td>17.000000</td>\n",
              "      <td>10.000000</td>\n",
              "    </tr>\n",
              "    <tr>\n",
              "      <th>50%</th>\n",
              "      <td>2.610312e+06</td>\n",
              "      <td>24.000000</td>\n",
              "      <td>20.000000</td>\n",
              "    </tr>\n",
              "    <tr>\n",
              "      <th>75%</th>\n",
              "      <td>3.529758e+06</td>\n",
              "      <td>27.000000</td>\n",
              "      <td>20.000000</td>\n",
              "    </tr>\n",
              "    <tr>\n",
              "      <th>max</th>\n",
              "      <td>4.334761e+06</td>\n",
              "      <td>48.000000</td>\n",
              "      <td>30.000000</td>\n",
              "    </tr>\n",
              "  </tbody>\n",
              "</table>\n",
              "</div>"
            ],
            "text/plain": [
              "                 id           age           Age\n",
              "count  3.000000e+04  30000.000000  29822.000000\n",
              "mean   2.395573e+06     23.934733     18.270740\n",
              "std    1.248408e+06      7.826343      7.061748\n",
              "min    5.114000e+03     13.000000     10.000000\n",
              "25%    1.226466e+06     17.000000     10.000000\n",
              "50%    2.610312e+06     24.000000     20.000000\n",
              "75%    3.529758e+06     27.000000     20.000000\n",
              "max    4.334761e+06     48.000000     30.000000"
            ]
          },
          "metadata": {
            "tags": []
          },
          "execution_count": 124
        }
      ]
    },
    {
      "cell_type": "code",
      "metadata": {
        "id": "fLfnRX-72acJ"
      },
      "source": [
        "#Remove columns wich are not needed for blog analysis\n",
        "dfSampl.drop(['id','date', 'age'], axis=1, inplace=True)"
      ],
      "execution_count": 125,
      "outputs": []
    },
    {
      "cell_type": "code",
      "metadata": {
        "colab": {
          "base_uri": "https://localhost:8080/",
          "height": 295
        },
        "id": "81FZaGpqPAU4",
        "outputId": "b2602faa-62d4-4b03-eabc-71465224de3c"
      },
      "source": [
        "dfSampl.describe()"
      ],
      "execution_count": 126,
      "outputs": [
        {
          "output_type": "execute_result",
          "data": {
            "text/html": [
              "<div>\n",
              "<style scoped>\n",
              "    .dataframe tbody tr th:only-of-type {\n",
              "        vertical-align: middle;\n",
              "    }\n",
              "\n",
              "    .dataframe tbody tr th {\n",
              "        vertical-align: top;\n",
              "    }\n",
              "\n",
              "    .dataframe thead th {\n",
              "        text-align: right;\n",
              "    }\n",
              "</style>\n",
              "<table border=\"1\" class=\"dataframe\">\n",
              "  <thead>\n",
              "    <tr style=\"text-align: right;\">\n",
              "      <th></th>\n",
              "      <th>Age</th>\n",
              "    </tr>\n",
              "  </thead>\n",
              "  <tbody>\n",
              "    <tr>\n",
              "      <th>count</th>\n",
              "      <td>29822.000000</td>\n",
              "    </tr>\n",
              "    <tr>\n",
              "      <th>mean</th>\n",
              "      <td>18.270740</td>\n",
              "    </tr>\n",
              "    <tr>\n",
              "      <th>std</th>\n",
              "      <td>7.061748</td>\n",
              "    </tr>\n",
              "    <tr>\n",
              "      <th>min</th>\n",
              "      <td>10.000000</td>\n",
              "    </tr>\n",
              "    <tr>\n",
              "      <th>25%</th>\n",
              "      <td>10.000000</td>\n",
              "    </tr>\n",
              "    <tr>\n",
              "      <th>50%</th>\n",
              "      <td>20.000000</td>\n",
              "    </tr>\n",
              "    <tr>\n",
              "      <th>75%</th>\n",
              "      <td>20.000000</td>\n",
              "    </tr>\n",
              "    <tr>\n",
              "      <th>max</th>\n",
              "      <td>30.000000</td>\n",
              "    </tr>\n",
              "  </tbody>\n",
              "</table>\n",
              "</div>"
            ],
            "text/plain": [
              "                Age\n",
              "count  29822.000000\n",
              "mean      18.270740\n",
              "std        7.061748\n",
              "min       10.000000\n",
              "25%       10.000000\n",
              "50%       20.000000\n",
              "75%       20.000000\n",
              "max       30.000000"
            ]
          },
          "metadata": {
            "tags": []
          },
          "execution_count": 126
        }
      ]
    },
    {
      "cell_type": "code",
      "metadata": {
        "id": "-_opk0Bq2acK"
      },
      "source": [
        "import re, string\n",
        "\n",
        "def clean_str(string):\n",
        "  \"\"\"\n",
        "  String cleaning before vectorization\n",
        "  \"\"\"\n",
        "  try:    \n",
        "    #string = re.sub(r'^https?:\\/\\/<>.*[\\r\\n]*', '', string, flags=re.MULTILINE)\n",
        "    # retain alphabets, replace everything else with space\n",
        "    string = re.sub(r\"[^A-Za-z]\", \" \", string)         \n",
        "    words = string.strip().lower().split()    \n",
        "    words = [w for w in words if len(w)>=1]\n",
        "    return \" \".join(words)\t\n",
        "  except:\n",
        "    return \"\""
      ],
      "execution_count": 127,
      "outputs": []
    },
    {
      "cell_type": "code",
      "metadata": {
        "colab": {
          "base_uri": "https://localhost:8080/",
          "height": 203
        },
        "id": "9hV5n_ng2acK",
        "outputId": "5ec00fc9-b311-43b8-a1bb-497115a1910f"
      },
      "source": [
        "dfSampl['text'] = dfSampl['text'].apply(clean_str)\n",
        "dfSampl.head()\n",
        "# only alphabets are retained "
      ],
      "execution_count": 128,
      "outputs": [
        {
          "output_type": "execute_result",
          "data": {
            "text/html": [
              "<div>\n",
              "<style scoped>\n",
              "    .dataframe tbody tr th:only-of-type {\n",
              "        vertical-align: middle;\n",
              "    }\n",
              "\n",
              "    .dataframe tbody tr th {\n",
              "        vertical-align: top;\n",
              "    }\n",
              "\n",
              "    .dataframe thead th {\n",
              "        text-align: right;\n",
              "    }\n",
              "</style>\n",
              "<table border=\"1\" class=\"dataframe\">\n",
              "  <thead>\n",
              "    <tr style=\"text-align: right;\">\n",
              "      <th></th>\n",
              "      <th>gender</th>\n",
              "      <th>topic</th>\n",
              "      <th>sign</th>\n",
              "      <th>text</th>\n",
              "      <th>Age</th>\n",
              "    </tr>\n",
              "  </thead>\n",
              "  <tbody>\n",
              "    <tr>\n",
              "      <th>464410</th>\n",
              "      <td>male</td>\n",
              "      <td>Student</td>\n",
              "      <td>Taurus</td>\n",
              "      <td>almost done with the thesis i have to change t...</td>\n",
              "      <td>20.0</td>\n",
              "    </tr>\n",
              "    <tr>\n",
              "      <th>458824</th>\n",
              "      <td>female</td>\n",
              "      <td>HumanResources</td>\n",
              "      <td>Scorpio</td>\n",
              "      <td>um well for the time being yes but when quiggy...</td>\n",
              "      <td>10.0</td>\n",
              "    </tr>\n",
              "    <tr>\n",
              "      <th>455891</th>\n",
              "      <td>female</td>\n",
              "      <td>indUnk</td>\n",
              "      <td>Cancer</td>\n",
              "      <td>urllink you can all jolly well leave my jolly ...</td>\n",
              "      <td>20.0</td>\n",
              "    </tr>\n",
              "    <tr>\n",
              "      <th>199983</th>\n",
              "      <td>female</td>\n",
              "      <td>indUnk</td>\n",
              "      <td>Libra</td>\n",
              "      <td>i open my arms to death i search for the big g...</td>\n",
              "      <td>20.0</td>\n",
              "    </tr>\n",
              "    <tr>\n",
              "      <th>44950</th>\n",
              "      <td>female</td>\n",
              "      <td>indUnk</td>\n",
              "      <td>Gemini</td>\n",
              "      <td>i signed r up for the summer library reading p...</td>\n",
              "      <td>30.0</td>\n",
              "    </tr>\n",
              "  </tbody>\n",
              "</table>\n",
              "</div>"
            ],
            "text/plain": [
              "        gender  ...   Age\n",
              "464410    male  ...  20.0\n",
              "458824  female  ...  10.0\n",
              "455891  female  ...  20.0\n",
              "199983  female  ...  20.0\n",
              "44950   female  ...  30.0\n",
              "\n",
              "[5 rows x 5 columns]"
            ]
          },
          "metadata": {
            "tags": []
          },
          "execution_count": 128
        }
      ]
    },
    {
      "cell_type": "code",
      "metadata": {
        "colab": {
          "base_uri": "https://localhost:8080/"
        },
        "id": "78Hc5b468i-5",
        "outputId": "d1da3413-6111-4379-8a14-466ebccbf5f0"
      },
      "source": [
        "import nltk\n",
        "nltk.download(\"popular\")"
      ],
      "execution_count": 129,
      "outputs": [
        {
          "output_type": "stream",
          "text": [
            "[nltk_data] Downloading collection 'popular'\n",
            "[nltk_data]    | \n",
            "[nltk_data]    | Downloading package cmudict to /root/nltk_data...\n",
            "[nltk_data]    |   Package cmudict is already up-to-date!\n",
            "[nltk_data]    | Downloading package gazetteers to /root/nltk_data...\n",
            "[nltk_data]    |   Package gazetteers is already up-to-date!\n",
            "[nltk_data]    | Downloading package genesis to /root/nltk_data...\n",
            "[nltk_data]    |   Package genesis is already up-to-date!\n",
            "[nltk_data]    | Downloading package gutenberg to /root/nltk_data...\n",
            "[nltk_data]    |   Package gutenberg is already up-to-date!\n",
            "[nltk_data]    | Downloading package inaugural to /root/nltk_data...\n",
            "[nltk_data]    |   Package inaugural is already up-to-date!\n",
            "[nltk_data]    | Downloading package movie_reviews to\n",
            "[nltk_data]    |     /root/nltk_data...\n",
            "[nltk_data]    |   Package movie_reviews is already up-to-date!\n",
            "[nltk_data]    | Downloading package names to /root/nltk_data...\n",
            "[nltk_data]    |   Package names is already up-to-date!\n",
            "[nltk_data]    | Downloading package shakespeare to /root/nltk_data...\n",
            "[nltk_data]    |   Package shakespeare is already up-to-date!\n",
            "[nltk_data]    | Downloading package stopwords to /root/nltk_data...\n",
            "[nltk_data]    |   Package stopwords is already up-to-date!\n",
            "[nltk_data]    | Downloading package treebank to /root/nltk_data...\n",
            "[nltk_data]    |   Package treebank is already up-to-date!\n",
            "[nltk_data]    | Downloading package twitter_samples to\n",
            "[nltk_data]    |     /root/nltk_data...\n",
            "[nltk_data]    |   Package twitter_samples is already up-to-date!\n",
            "[nltk_data]    | Downloading package omw to /root/nltk_data...\n",
            "[nltk_data]    |   Package omw is already up-to-date!\n",
            "[nltk_data]    | Downloading package wordnet to /root/nltk_data...\n",
            "[nltk_data]    |   Package wordnet is already up-to-date!\n",
            "[nltk_data]    | Downloading package wordnet_ic to /root/nltk_data...\n",
            "[nltk_data]    |   Package wordnet_ic is already up-to-date!\n",
            "[nltk_data]    | Downloading package words to /root/nltk_data...\n",
            "[nltk_data]    |   Package words is already up-to-date!\n",
            "[nltk_data]    | Downloading package maxent_ne_chunker to\n",
            "[nltk_data]    |     /root/nltk_data...\n",
            "[nltk_data]    |   Package maxent_ne_chunker is already up-to-date!\n",
            "[nltk_data]    | Downloading package punkt to /root/nltk_data...\n",
            "[nltk_data]    |   Package punkt is already up-to-date!\n",
            "[nltk_data]    | Downloading package snowball_data to\n",
            "[nltk_data]    |     /root/nltk_data...\n",
            "[nltk_data]    |   Package snowball_data is already up-to-date!\n",
            "[nltk_data]    | Downloading package averaged_perceptron_tagger to\n",
            "[nltk_data]    |     /root/nltk_data...\n",
            "[nltk_data]    |   Package averaged_perceptron_tagger is already up-\n",
            "[nltk_data]    |       to-date!\n",
            "[nltk_data]    | \n",
            "[nltk_data]  Done downloading collection popular\n"
          ],
          "name": "stdout"
        },
        {
          "output_type": "execute_result",
          "data": {
            "text/plain": [
              "True"
            ]
          },
          "metadata": {
            "tags": []
          },
          "execution_count": 129
        }
      ]
    },
    {
      "cell_type": "code",
      "metadata": {
        "id": "jVXtfGcr2acL"
      },
      "source": [
        "from nltk.corpus import stopwords\n",
        "stop = stopwords.words('english')"
      ],
      "execution_count": 130,
      "outputs": []
    },
    {
      "cell_type": "code",
      "metadata": {
        "id": "6V_Sl85t2acL"
      },
      "source": [
        "dfSampl['keywords'] = dfSampl['text'].apply(lambda x : \" \".join(word for word in x.split() if word not in stop))\n"
      ],
      "execution_count": 131,
      "outputs": []
    },
    {
      "cell_type": "code",
      "metadata": {
        "colab": {
          "base_uri": "https://localhost:8080/",
          "height": 203
        },
        "id": "USfNs_0N2acM",
        "outputId": "30a0d2d6-2c7a-4b95-bb22-efd41a6ddd3a"
      },
      "source": [
        "dfSampl.head()"
      ],
      "execution_count": 132,
      "outputs": [
        {
          "output_type": "execute_result",
          "data": {
            "text/html": [
              "<div>\n",
              "<style scoped>\n",
              "    .dataframe tbody tr th:only-of-type {\n",
              "        vertical-align: middle;\n",
              "    }\n",
              "\n",
              "    .dataframe tbody tr th {\n",
              "        vertical-align: top;\n",
              "    }\n",
              "\n",
              "    .dataframe thead th {\n",
              "        text-align: right;\n",
              "    }\n",
              "</style>\n",
              "<table border=\"1\" class=\"dataframe\">\n",
              "  <thead>\n",
              "    <tr style=\"text-align: right;\">\n",
              "      <th></th>\n",
              "      <th>gender</th>\n",
              "      <th>topic</th>\n",
              "      <th>sign</th>\n",
              "      <th>text</th>\n",
              "      <th>Age</th>\n",
              "      <th>keywords</th>\n",
              "    </tr>\n",
              "  </thead>\n",
              "  <tbody>\n",
              "    <tr>\n",
              "      <th>464410</th>\n",
              "      <td>male</td>\n",
              "      <td>Student</td>\n",
              "      <td>Taurus</td>\n",
              "      <td>almost done with the thesis i have to change t...</td>\n",
              "      <td>20.0</td>\n",
              "      <td>almost done thesis change names thesis reflect...</td>\n",
              "    </tr>\n",
              "    <tr>\n",
              "      <th>458824</th>\n",
              "      <td>female</td>\n",
              "      <td>HumanResources</td>\n",
              "      <td>Scorpio</td>\n",
              "      <td>um well for the time being yes but when quiggy...</td>\n",
              "      <td>10.0</td>\n",
              "      <td>um well time yes quiggy comes back going get o...</td>\n",
              "    </tr>\n",
              "    <tr>\n",
              "      <th>455891</th>\n",
              "      <td>female</td>\n",
              "      <td>indUnk</td>\n",
              "      <td>Cancer</td>\n",
              "      <td>urllink you can all jolly well leave my jolly ...</td>\n",
              "      <td>20.0</td>\n",
              "      <td>urllink jolly well leave jolly tshirt jolly we...</td>\n",
              "    </tr>\n",
              "    <tr>\n",
              "      <th>199983</th>\n",
              "      <td>female</td>\n",
              "      <td>indUnk</td>\n",
              "      <td>Libra</td>\n",
              "      <td>i open my arms to death i search for the big g...</td>\n",
              "      <td>20.0</td>\n",
              "      <td>open arms death search big grim reaper death a...</td>\n",
              "    </tr>\n",
              "    <tr>\n",
              "      <th>44950</th>\n",
              "      <td>female</td>\n",
              "      <td>indUnk</td>\n",
              "      <td>Gemini</td>\n",
              "      <td>i signed r up for the summer library reading p...</td>\n",
              "      <td>30.0</td>\n",
              "      <td>signed r summer library reading program done l...</td>\n",
              "    </tr>\n",
              "  </tbody>\n",
              "</table>\n",
              "</div>"
            ],
            "text/plain": [
              "        gender  ...                                           keywords\n",
              "464410    male  ...  almost done thesis change names thesis reflect...\n",
              "458824  female  ...  um well time yes quiggy comes back going get o...\n",
              "455891  female  ...  urllink jolly well leave jolly tshirt jolly we...\n",
              "199983  female  ...  open arms death search big grim reaper death a...\n",
              "44950   female  ...  signed r summer library reading program done l...\n",
              "\n",
              "[5 rows x 6 columns]"
            ]
          },
          "metadata": {
            "tags": []
          },
          "execution_count": 132
        }
      ]
    },
    {
      "cell_type": "code",
      "metadata": {
        "id": "oilfX8cK2acM"
      },
      "source": [
        "# merge all author columns into a new list  \n",
        "dfSampl['labels']=dfSampl.apply(lambda col: [col['gender'],str(col['Age']),col['topic'],col['sign']], axis=1)\n"
      ],
      "execution_count": 133,
      "outputs": []
    },
    {
      "cell_type": "code",
      "metadata": {
        "colab": {
          "base_uri": "https://localhost:8080/",
          "height": 287
        },
        "id": "MCkJ_SL62acM",
        "outputId": "b6ae2c25-5260-4d34-a3e7-9c3a0120a0ee"
      },
      "source": [
        "dfSampl.head()"
      ],
      "execution_count": 134,
      "outputs": [
        {
          "output_type": "execute_result",
          "data": {
            "text/html": [
              "<div>\n",
              "<style scoped>\n",
              "    .dataframe tbody tr th:only-of-type {\n",
              "        vertical-align: middle;\n",
              "    }\n",
              "\n",
              "    .dataframe tbody tr th {\n",
              "        vertical-align: top;\n",
              "    }\n",
              "\n",
              "    .dataframe thead th {\n",
              "        text-align: right;\n",
              "    }\n",
              "</style>\n",
              "<table border=\"1\" class=\"dataframe\">\n",
              "  <thead>\n",
              "    <tr style=\"text-align: right;\">\n",
              "      <th></th>\n",
              "      <th>gender</th>\n",
              "      <th>topic</th>\n",
              "      <th>sign</th>\n",
              "      <th>text</th>\n",
              "      <th>Age</th>\n",
              "      <th>keywords</th>\n",
              "      <th>labels</th>\n",
              "    </tr>\n",
              "  </thead>\n",
              "  <tbody>\n",
              "    <tr>\n",
              "      <th>464410</th>\n",
              "      <td>male</td>\n",
              "      <td>Student</td>\n",
              "      <td>Taurus</td>\n",
              "      <td>almost done with the thesis i have to change t...</td>\n",
              "      <td>20.0</td>\n",
              "      <td>almost done thesis change names thesis reflect...</td>\n",
              "      <td>[male, 20.0, Student, Taurus]</td>\n",
              "    </tr>\n",
              "    <tr>\n",
              "      <th>458824</th>\n",
              "      <td>female</td>\n",
              "      <td>HumanResources</td>\n",
              "      <td>Scorpio</td>\n",
              "      <td>um well for the time being yes but when quiggy...</td>\n",
              "      <td>10.0</td>\n",
              "      <td>um well time yes quiggy comes back going get o...</td>\n",
              "      <td>[female, 10.0, HumanResources, Scorpio]</td>\n",
              "    </tr>\n",
              "    <tr>\n",
              "      <th>455891</th>\n",
              "      <td>female</td>\n",
              "      <td>indUnk</td>\n",
              "      <td>Cancer</td>\n",
              "      <td>urllink you can all jolly well leave my jolly ...</td>\n",
              "      <td>20.0</td>\n",
              "      <td>urllink jolly well leave jolly tshirt jolly we...</td>\n",
              "      <td>[female, 20.0, indUnk, Cancer]</td>\n",
              "    </tr>\n",
              "    <tr>\n",
              "      <th>199983</th>\n",
              "      <td>female</td>\n",
              "      <td>indUnk</td>\n",
              "      <td>Libra</td>\n",
              "      <td>i open my arms to death i search for the big g...</td>\n",
              "      <td>20.0</td>\n",
              "      <td>open arms death search big grim reaper death a...</td>\n",
              "      <td>[female, 20.0, indUnk, Libra]</td>\n",
              "    </tr>\n",
              "    <tr>\n",
              "      <th>44950</th>\n",
              "      <td>female</td>\n",
              "      <td>indUnk</td>\n",
              "      <td>Gemini</td>\n",
              "      <td>i signed r up for the summer library reading p...</td>\n",
              "      <td>30.0</td>\n",
              "      <td>signed r summer library reading program done l...</td>\n",
              "      <td>[female, 30.0, indUnk, Gemini]</td>\n",
              "    </tr>\n",
              "  </tbody>\n",
              "</table>\n",
              "</div>"
            ],
            "text/plain": [
              "        gender  ...                                   labels\n",
              "464410    male  ...            [male, 20.0, Student, Taurus]\n",
              "458824  female  ...  [female, 10.0, HumanResources, Scorpio]\n",
              "455891  female  ...           [female, 20.0, indUnk, Cancer]\n",
              "199983  female  ...            [female, 20.0, indUnk, Libra]\n",
              "44950   female  ...           [female, 30.0, indUnk, Gemini]\n",
              "\n",
              "[5 rows x 7 columns]"
            ]
          },
          "metadata": {
            "tags": []
          },
          "execution_count": 134
        }
      ]
    },
    {
      "cell_type": "code",
      "metadata": {
        "id": "ePF1u0qq2acN"
      },
      "source": [
        "df2 = dfSampl[['keywords', 'labels']]"
      ],
      "execution_count": 135,
      "outputs": []
    },
    {
      "cell_type": "code",
      "metadata": {
        "id": "cvZubTkp2acN"
      },
      "source": [
        "X = df2['keywords']"
      ],
      "execution_count": 136,
      "outputs": []
    },
    {
      "cell_type": "code",
      "metadata": {
        "id": "o8u9WTui2acN"
      },
      "source": [
        "Y = df2['labels']"
      ],
      "execution_count": 137,
      "outputs": []
    },
    {
      "cell_type": "code",
      "metadata": {
        "id": "PNBY18kA2acO"
      },
      "source": [
        "#2. Begin Vectorization\n",
        "from sklearn.feature_extraction.text import TfidfVectorizer\n",
        "vectorizer = TfidfVectorizer(max_features=2000)\n",
        "X = vectorizer.fit_transform(X)\n"
      ],
      "execution_count": 138,
      "outputs": []
    },
    {
      "cell_type": "code",
      "metadata": {
        "colab": {
          "base_uri": "https://localhost:8080/"
        },
        "id": "1kqEZOAIYbkp",
        "outputId": "77dd2b33-5d15-403f-9fcc-ab2e3f05099b"
      },
      "source": [
        "X.shape"
      ],
      "execution_count": 139,
      "outputs": [
        {
          "output_type": "execute_result",
          "data": {
            "text/plain": [
              "(30000, 2000)"
            ]
          },
          "metadata": {
            "tags": []
          },
          "execution_count": 139
        }
      ]
    },
    {
      "cell_type": "code",
      "metadata": {
        "colab": {
          "base_uri": "https://localhost:8080/"
        },
        "id": "Qj0h6AQ62acP",
        "outputId": "cf846cbb-31ed-432a-f4aa-baf934aa784d"
      },
      "source": [
        "df2['labels'].head()"
      ],
      "execution_count": 141,
      "outputs": [
        {
          "output_type": "execute_result",
          "data": {
            "text/plain": [
              "464410              [male, 20.0, Student, Taurus]\n",
              "458824    [female, 10.0, HumanResources, Scorpio]\n",
              "455891             [female, 20.0, indUnk, Cancer]\n",
              "199983              [female, 20.0, indUnk, Libra]\n",
              "44950              [female, 30.0, indUnk, Gemini]\n",
              "Name: labels, dtype: object"
            ]
          },
          "metadata": {
            "tags": []
          },
          "execution_count": 141
        }
      ]
    },
    {
      "cell_type": "code",
      "metadata": {
        "colab": {
          "base_uri": "https://localhost:8080/"
        },
        "id": "LU5srnYE2acP",
        "outputId": "0db59a0b-8373-491f-e48d-1ccbf6e22869"
      },
      "source": [
        "label_counts=dict()\n",
        "\n",
        "for labels in df2.labels.values:\n",
        "    for label in labels:\n",
        "        if label in label_counts:\n",
        "            label_counts[str(label)]+=1\n",
        "        else:\n",
        "            label_counts[str(label)]=1\n",
        "        \n",
        "label_counts"
      ],
      "execution_count": 142,
      "outputs": [
        {
          "output_type": "execute_result",
          "data": {
            "text/plain": [
              "{'10.0': 10460,\n",
              " '20.0': 14059,\n",
              " '30.0': 5303,\n",
              " 'Accounting': 177,\n",
              " 'Advertising': 187,\n",
              " 'Agriculture': 49,\n",
              " 'Aquarius': 2217,\n",
              " 'Architecture': 72,\n",
              " 'Aries': 2824,\n",
              " 'Arts': 1385,\n",
              " 'Automotive': 55,\n",
              " 'Banking': 187,\n",
              " 'Biotech': 99,\n",
              " 'BusinessServices': 200,\n",
              " 'Cancer': 2986,\n",
              " 'Capricorn': 2227,\n",
              " 'Chemicals': 172,\n",
              " 'Communications-Media': 861,\n",
              " 'Construction': 46,\n",
              " 'Consulting': 281,\n",
              " 'Education': 1268,\n",
              " 'Engineering': 523,\n",
              " 'Environment': 28,\n",
              " 'Fashion': 209,\n",
              " 'Gemini': 2321,\n",
              " 'Government': 287,\n",
              " 'HumanResources': 135,\n",
              " 'Internet': 705,\n",
              " 'InvestmentBanking': 70,\n",
              " 'Law': 430,\n",
              " 'LawEnforcement-Security': 93,\n",
              " 'Leo': 2427,\n",
              " 'Libra': 2716,\n",
              " 'Manufacturing': 98,\n",
              " 'Maritime': 15,\n",
              " 'Marketing': 214,\n",
              " 'Military': 129,\n",
              " 'Museums-Libraries': 128,\n",
              " 'Non-Profit': 651,\n",
              " 'Pisces': 2290,\n",
              " 'Publishing': 367,\n",
              " 'RealEstate': 130,\n",
              " 'Religion': 222,\n",
              " 'Sagittarius': 2148,\n",
              " 'Science': 333,\n",
              " 'Scorpio': 2499,\n",
              " 'Sports-Recreation': 121,\n",
              " 'Student': 6880,\n",
              " 'Taurus': 2769,\n",
              " 'Technology': 1796,\n",
              " 'Telecommunications': 160,\n",
              " 'Tourism': 99,\n",
              " 'Transportation': 88,\n",
              " 'Virgo': 2576,\n",
              " 'female': 14945,\n",
              " 'indUnk': 11050,\n",
              " 'male': 15055,\n",
              " 'nan': 178}"
            ]
          },
          "metadata": {
            "tags": []
          },
          "execution_count": 142
        }
      ]
    },
    {
      "cell_type": "code",
      "metadata": {
        "id": "HPUx_Dum2acQ"
      },
      "source": [
        "# Vectorization for Y\n",
        "from sklearn.preprocessing import MultiLabelBinarizer\n",
        "binarizer=MultiLabelBinarizer(classes=sorted(label_counts.keys()))"
      ],
      "execution_count": 143,
      "outputs": []
    },
    {
      "cell_type": "code",
      "metadata": {
        "id": "Xkv3xA1j2acQ"
      },
      "source": [
        "Y=binarizer.fit_transform(df2['labels'])\n"
      ],
      "execution_count": 144,
      "outputs": []
    },
    {
      "cell_type": "code",
      "metadata": {
        "colab": {
          "base_uri": "https://localhost:8080/"
        },
        "id": "c4MXKYiJ2acR",
        "outputId": "c8e6e6b5-d0c1-4338-9a98-7c21834da9ea"
      },
      "source": [
        "Y.shape\n",
        "# Number of blogs sampled x number of possible labels (80 of them, only 4 will be active thoough)"
      ],
      "execution_count": 145,
      "outputs": [
        {
          "output_type": "execute_result",
          "data": {
            "text/plain": [
              "(30000, 58)"
            ]
          },
          "metadata": {
            "tags": []
          },
          "execution_count": 145
        }
      ]
    },
    {
      "cell_type": "code",
      "metadata": {
        "id": "PimcXdB-K6jp"
      },
      "source": [
        "from sklearn.model_selection import train_test_split\n",
        "Xtrain,Xtest,Ytrain,Ytest=train_test_split(X,Y,test_size=0.2)\n"
      ],
      "execution_count": 146,
      "outputs": []
    },
    {
      "cell_type": "code",
      "metadata": {
        "id": "Cq2CRcHtf4RV"
      },
      "source": [
        "from sklearn.multiclass import OneVsRestClassifier\n",
        "from sklearn.linear_model import LogisticRegression"
      ],
      "execution_count": 147,
      "outputs": []
    },
    {
      "cell_type": "code",
      "metadata": {
        "id": "kNwJc5-sf6Mw"
      },
      "source": [
        "model=LogisticRegression(solver='lbfgs')\n"
      ],
      "execution_count": 148,
      "outputs": []
    },
    {
      "cell_type": "code",
      "metadata": {
        "id": "qZCYRzyif98o"
      },
      "source": [
        "model=OneVsRestClassifier(model)\n"
      ],
      "execution_count": 149,
      "outputs": []
    },
    {
      "cell_type": "code",
      "metadata": {
        "colab": {
          "base_uri": "https://localhost:8080/"
        },
        "id": "73AmirxLf_jQ",
        "outputId": "06bd22c1-9282-498a-f8bb-74c5226e6e4a"
      },
      "source": [
        "model.fit(Xtrain,Ytrain)\n"
      ],
      "execution_count": 150,
      "outputs": [
        {
          "output_type": "stream",
          "text": [
            "/usr/local/lib/python3.7/dist-packages/sklearn/linear_model/_logistic.py:940: ConvergenceWarning: lbfgs failed to converge (status=1):\n",
            "STOP: TOTAL NO. of ITERATIONS REACHED LIMIT.\n",
            "\n",
            "Increase the number of iterations (max_iter) or scale the data as shown in:\n",
            "    https://scikit-learn.org/stable/modules/preprocessing.html\n",
            "Please also refer to the documentation for alternative solver options:\n",
            "    https://scikit-learn.org/stable/modules/linear_model.html#logistic-regression\n",
            "  extra_warning_msg=_LOGISTIC_SOLVER_CONVERGENCE_MSG)\n",
            "/usr/local/lib/python3.7/dist-packages/sklearn/linear_model/_logistic.py:940: ConvergenceWarning: lbfgs failed to converge (status=1):\n",
            "STOP: TOTAL NO. of ITERATIONS REACHED LIMIT.\n",
            "\n",
            "Increase the number of iterations (max_iter) or scale the data as shown in:\n",
            "    https://scikit-learn.org/stable/modules/preprocessing.html\n",
            "Please also refer to the documentation for alternative solver options:\n",
            "    https://scikit-learn.org/stable/modules/linear_model.html#logistic-regression\n",
            "  extra_warning_msg=_LOGISTIC_SOLVER_CONVERGENCE_MSG)\n"
          ],
          "name": "stderr"
        },
        {
          "output_type": "execute_result",
          "data": {
            "text/plain": [
              "OneVsRestClassifier(estimator=LogisticRegression(C=1.0, class_weight=None,\n",
              "                                                 dual=False, fit_intercept=True,\n",
              "                                                 intercept_scaling=1,\n",
              "                                                 l1_ratio=None, max_iter=100,\n",
              "                                                 multi_class='auto',\n",
              "                                                 n_jobs=None, penalty='l2',\n",
              "                                                 random_state=None,\n",
              "                                                 solver='lbfgs', tol=0.0001,\n",
              "                                                 verbose=0, warm_start=False),\n",
              "                    n_jobs=None)"
            ]
          },
          "metadata": {
            "tags": []
          },
          "execution_count": 150
        }
      ]
    },
    {
      "cell_type": "code",
      "metadata": {
        "id": "oDT1oNSJgBcx"
      },
      "source": [
        "Ypred=model.predict(Xtest)\n"
      ],
      "execution_count": 151,
      "outputs": []
    },
    {
      "cell_type": "code",
      "metadata": {
        "id": "ejwto-CvgGm2"
      },
      "source": [
        "Ypred_inversed = binarizer.inverse_transform(Ypred)\n",
        "y_test_inversed = binarizer.inverse_transform(Ytest)"
      ],
      "execution_count": 152,
      "outputs": []
    },
    {
      "cell_type": "code",
      "metadata": {
        "colab": {
          "base_uri": "https://localhost:8080/"
        },
        "id": "J14lq-fggJsv",
        "outputId": "61a2782f-a87f-4527-85fb-7337578fe0cf"
      },
      "source": [
        "#5. Print the true vs predicted labels for any 5 entries from the dataset.\n",
        "for i in range(5):\n",
        "    print('Text:\\t{}\\nTrue labels:\\t{}\\nPredicted labels:\\t{}\\n\\n'.format(\n",
        "        Xtest[i],\n",
        "        ','.join(y_test_inversed[i]),\n",
        "        ','.join(Ypred_inversed[i])\n",
        "    ))"
      ],
      "execution_count": 153,
      "outputs": [
        {
          "output_type": "stream",
          "text": [
            "Text:\t  (0, 1431)\t0.8105487060363953\n",
            "  (0, 182)\t0.2689878359817689\n",
            "  (0, 1219)\t0.22402463877131926\n",
            "  (0, 647)\t0.23632551283053485\n",
            "  (0, 1258)\t0.23296557754475658\n",
            "  (0, 838)\t0.1835017245385825\n",
            "  (0, 1972)\t0.12203545145612044\n",
            "  (0, 122)\t0.24855795662951508\n",
            "True labels:\t20.0,Scorpio,female,indUnk\n",
            "Predicted labels:\t20.0,female\n",
            "\n",
            "\n",
            "Text:\t  (0, 949)\t0.27380105422250767\n",
            "  (0, 587)\t0.28562290491084424\n",
            "  (0, 1300)\t0.2784597073079912\n",
            "  (0, 1293)\t0.2609492056568663\n",
            "  (0, 486)\t0.23340502376573757\n",
            "  (0, 1327)\t0.21792128782389547\n",
            "  (0, 532)\t0.22717503859601954\n",
            "  (0, 924)\t0.21949713333531654\n",
            "  (0, 988)\t0.1538225290752623\n",
            "  (0, 97)\t0.19242098089012197\n",
            "  (0, 149)\t0.1985915496261092\n",
            "  (0, 343)\t0.23219686128058384\n",
            "  (0, 941)\t0.1085163677124319\n",
            "  (0, 1897)\t0.2643584702487063\n",
            "  (0, 101)\t0.2504953844922057\n",
            "  (0, 737)\t0.12019035061753393\n",
            "  (0, 1195)\t0.14078774580791126\n",
            "  (0, 733)\t0.11511778441005859\n",
            "  (0, 1422)\t0.11263381022346675\n",
            "  (0, 931)\t0.2052057721156964\n",
            "  (0, 1574)\t0.2844999868015818\n",
            "  (0, 730)\t0.11982398925803274\n",
            "True labels:\t30.0,Accounting,Sagittarius,female\n",
            "Predicted labels:\t20.0,female,indUnk\n",
            "\n",
            "\n",
            "Text:\t  (0, 334)\t0.3655522598951993\n",
            "  (0, 6)\t0.18490891690534975\n",
            "  (0, 1576)\t0.1778901155913132\n",
            "  (0, 56)\t0.16433052668119788\n",
            "  (0, 1642)\t0.17764025017378898\n",
            "  (0, 1135)\t0.1324438737637616\n",
            "  (0, 512)\t0.1531805942488546\n",
            "  (0, 1036)\t0.15165258782825497\n",
            "  (0, 1694)\t0.3374832045529029\n",
            "  (0, 679)\t0.1419294524712608\n",
            "  (0, 146)\t0.13380963629880718\n",
            "  (0, 616)\t0.15268108163445343\n",
            "  (0, 454)\t0.15673681484320373\n",
            "  (0, 1485)\t0.13298867365426215\n",
            "  (0, 1516)\t0.12505621325370941\n",
            "  (0, 1987)\t0.30816656733444553\n",
            "  (0, 653)\t0.1423193729502708\n",
            "  (0, 160)\t0.20754644525505572\n",
            "  (0, 1972)\t0.07647118788340161\n",
            "  (0, 676)\t0.14789993381897587\n",
            "  (0, 47)\t0.11317858311781837\n",
            "  (0, 1504)\t0.10336385136514269\n",
            "  (0, 1677)\t0.08342703811328155\n",
            "  (0, 1798)\t0.07973416410545192\n",
            "  (0, 1230)\t0.12809376112587026\n",
            "  (0, 430)\t0.4300711298846667\n",
            "  (0, 49)\t0.08878608801141746\n",
            "  (0, 1802)\t0.11287716912455818\n",
            "True labels:\t10.0,Scorpio,Student,male\n",
            "Predicted labels:\t20.0,male\n",
            "\n",
            "\n",
            "Text:\t  (0, 1202)\t0.4031824931084715\n",
            "  (0, 1345)\t0.39886886834778135\n",
            "  (0, 680)\t0.2899747998485755\n",
            "  (0, 1209)\t0.2728809753188129\n",
            "  (0, 1716)\t0.2635883478742952\n",
            "  (0, 1980)\t0.39686115392048527\n",
            "  (0, 842)\t0.39779191127611513\n",
            "  (0, 701)\t0.3159314711873343\n",
            "  (0, 1865)\t0.18646554664637596\n",
            "True labels:\t20.0,Aquarius,Communications-Media,female\n",
            "Predicted labels:\t20.0,male\n",
            "\n",
            "\n",
            "Text:\t  (0, 1529)\t0.17494349189198274\n",
            "  (0, 1706)\t0.1665496797096509\n",
            "  (0, 1286)\t0.14786269524055035\n",
            "  (0, 25)\t0.14621428296360944\n",
            "  (0, 1355)\t0.1644482629282724\n",
            "  (0, 184)\t0.16411262506899277\n",
            "  (0, 1741)\t0.167162024787409\n",
            "  (0, 548)\t0.1330552121337194\n",
            "  (0, 963)\t0.13838128109620804\n",
            "  (0, 1270)\t0.14404495353647298\n",
            "  (0, 988)\t0.0913474193898291\n",
            "  (0, 237)\t0.13275784182041273\n",
            "  (0, 743)\t0.15401270329803166\n",
            "  (0, 1190)\t0.11585794873206345\n",
            "  (0, 1373)\t0.1608580311813934\n",
            "  (0, 1273)\t0.11062929451382396\n",
            "  (0, 236)\t0.13745056489109422\n",
            "  (0, 1971)\t0.12928121799957548\n",
            "  (0, 31)\t0.1409736612897746\n",
            "  (0, 689)\t0.1186904248041467\n",
            "  (0, 1421)\t0.13650709774597733\n",
            "  (0, 1804)\t0.10415022574027072\n",
            "  (0, 1755)\t0.27135142342530727\n",
            "  (0, 1953)\t0.13316753160359018\n",
            "  (0, 785)\t0.21110322694821404\n",
            "  :\t:\n",
            "  (0, 848)\t0.13309260274800838\n",
            "  (0, 1993)\t0.10086738808169549\n",
            "  (0, 713)\t0.09417800682348508\n",
            "  (0, 436)\t0.13842636891036342\n",
            "  (0, 381)\t0.11345035056143912\n",
            "  (0, 1225)\t0.10066302151814845\n",
            "  (0, 1664)\t0.10369357432227669\n",
            "  (0, 124)\t0.18400520256367026\n",
            "  (0, 425)\t0.1863688913240072\n",
            "  (0, 883)\t0.13688929071514983\n",
            "  (0, 1677)\t0.07760674021273146\n",
            "  (0, 376)\t0.08057588575937194\n",
            "  (0, 1223)\t0.08909029812240157\n",
            "  (0, 733)\t0.06836262929072257\n",
            "  (0, 1422)\t0.13377504533062679\n",
            "  (0, 1798)\t0.07417150002866987\n",
            "  (0, 1928)\t0.08332516481482613\n",
            "  (0, 1027)\t0.08854508000383697\n",
            "  (0, 1234)\t0.12176062818334532\n",
            "  (0, 711)\t0.06194058446055601\n",
            "  (0, 122)\t0.07244394883616613\n",
            "  (0, 1769)\t0.20233587126150673\n",
            "  (0, 563)\t0.09093587909167428\n",
            "  (0, 1002)\t0.11388535129603566\n",
            "  (0, 1802)\t0.10500227909689565\n",
            "True labels:\t10.0,Aquarius,female,indUnk\n",
            "Predicted labels:\tmale\n",
            "\n",
            "\n"
          ],
          "name": "stdout"
        }
      ]
    },
    {
      "cell_type": "code",
      "metadata": {
        "id": "RYo1r3RQgTEv"
      },
      "source": [
        "from sklearn.metrics import accuracy_score\n",
        "from sklearn.metrics import f1_score\n",
        "from sklearn.metrics import average_precision_score\n",
        "from sklearn.metrics import recall_score\n",
        "\n",
        "def print_evaluation_scores(Ytest, Ypred):\n",
        "    print('Accuracy score: ', accuracy_score(Ytest, Ypred))\n",
        "    print('F1 score: ', f1_score(Ytest, Ypred, average='micro'))\n",
        "    print('Average precision score: ', average_precision_score(Ytest, Ypred, average='micro'))\n",
        "    print('Average recall score: ', recall_score(Ytest, Ypred, average='micro'))"
      ],
      "execution_count": 154,
      "outputs": []
    },
    {
      "cell_type": "code",
      "metadata": {
        "colab": {
          "base_uri": "https://localhost:8080/"
        },
        "id": "RXDbyyqHgcCx",
        "outputId": "e1a3c678-c84d-425c-c655-88fd6e94f0b3"
      },
      "source": [
        "print_evaluation_scores(Ytest, Ypred)\n"
      ],
      "execution_count": 155,
      "outputs": [
        {
          "output_type": "stream",
          "text": [
            "Accuracy score:  0.0018333333333333333\n",
            "F1 score:  0.40063287562863764\n",
            "Average precision score:  0.23241713979327694\n",
            "Average recall score:  0.29541666666666666\n"
          ],
          "name": "stdout"
        }
      ]
    },
    {
      "cell_type": "code",
      "metadata": {
        "id": "tjeTvwc3gfjk"
      },
      "source": [
        ""
      ],
      "execution_count": 155,
      "outputs": []
    }
  ]
}