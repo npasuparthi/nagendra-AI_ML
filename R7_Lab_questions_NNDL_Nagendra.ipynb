{
  "nbformat": 4,
  "nbformat_minor": 0,
  "metadata": {
    "accelerator": "GPU",
    "colab": {
      "name": "R7 Lab questions NNDL_Nagendra.ipynb",
      "provenance": [],
      "collapsed_sections": [],
      "include_colab_link": true
    },
    "kernelspec": {
      "display_name": "Python 3",
      "language": "python",
      "name": "python3"
    },
    "language_info": {
      "codemirror_mode": {
        "name": "ipython",
        "version": 3
      },
      "file_extension": ".py",
      "mimetype": "text/x-python",
      "name": "python",
      "nbconvert_exporter": "python",
      "pygments_lexer": "ipython3",
      "version": "3.6.8"
    }
  },
  "cells": [
    {
      "cell_type": "markdown",
      "metadata": {
        "id": "view-in-github",
        "colab_type": "text"
      },
      "source": [
        "<a href=\"https://colab.research.google.com/github/npasuparthi/nagendra-AI_ML/blob/master/R7_Lab_questions_NNDL_Nagendra.ipynb\" target=\"_parent\"><img src=\"https://colab.research.google.com/assets/colab-badge.svg\" alt=\"Open In Colab\"/></a>"
      ]
    },
    {
      "cell_type": "markdown",
      "metadata": {
        "id": "3ukwOXvX_EV1"
      },
      "source": [
        "<img src=\"http://drive.google.com/uc?export=view&id=1tpOCamr9aWz817atPnyXus8w5gJ3mIts\" width=500px>"
      ]
    },
    {
      "cell_type": "markdown",
      "metadata": {
        "id": "j9QC42UQq5Lk"
      },
      "source": [
        "## Lab on NNDL Part 1: Tensorflow Basic"
      ]
    },
    {
      "cell_type": "markdown",
      "metadata": {
        "id": "g_vbQDYan7_7"
      },
      "source": [
        "### Tensors\n",
        "\n",
        "Tensors are multi-dimensional arrays with a uniform type"
      ]
    },
    {
      "cell_type": "markdown",
      "metadata": {
        "id": "tCkxkFqIoUIR"
      },
      "source": [
        "##Question 1\n"
      ]
    },
    {
      "cell_type": "markdown",
      "metadata": {
        "id": "KMbBPQZYR930"
      },
      "source": [
        ""
      ]
    },
    {
      "cell_type": "markdown",
      "metadata": {
        "id": "7V8C8aa0rGgN"
      },
      "source": [
        "### Create a rank-0 tensor\n",
        "- A \"scalar\" is called \"rank-0\" tensor\n",
        "- the tensor should contain value 99.99"
      ]
    },
    {
      "cell_type": "code",
      "metadata": {
        "id": "CmKTQCizra4b"
      },
      "source": [
        "import tensorflow as tf\n"
      ],
      "execution_count": 2,
      "outputs": []
    },
    {
      "cell_type": "code",
      "metadata": {
        "id": "B6H2X7SinZbZ",
        "colab": {
          "base_uri": "https://localhost:8080/"
        },
        "outputId": "ca2d1584-6ceb-4767-979f-b127f0818ad6"
      },
      "source": [
        "rank_0 = tf.constant(99.99)\n",
        "rank_0"
      ],
      "execution_count": 10,
      "outputs": [
        {
          "output_type": "execute_result",
          "data": {
            "text/plain": [
              "<tf.Tensor: shape=(), dtype=float32, numpy=99.99>"
            ]
          },
          "metadata": {
            "tags": []
          },
          "execution_count": 10
        }
      ]
    },
    {
      "cell_type": "markdown",
      "metadata": {
        "id": "xRm8MfpVrkyz"
      },
      "source": [
        "### Create a rank-1 tensor\n",
        "\n",
        "- A \"vector\" (list) is called \"rank-1\" tensor [9,8,7,6,5]\n",
        "- A vector has one axis"
      ]
    },
    {
      "cell_type": "code",
      "metadata": {
        "id": "_TvWoaBOnZXX",
        "colab": {
          "base_uri": "https://localhost:8080/"
        },
        "outputId": "cd846119-9e88-4b48-ae8c-d7110bc439f9"
      },
      "source": [
        "rank_1 = tf.constant([9,8,7,6,5])\n",
        "rank_1"
      ],
      "execution_count": 12,
      "outputs": [
        {
          "output_type": "execute_result",
          "data": {
            "text/plain": [
              "<tf.Tensor: shape=(5,), dtype=int32, numpy=array([9, 8, 7, 6, 5], dtype=int32)>"
            ]
          },
          "metadata": {
            "tags": []
          },
          "execution_count": 12
        }
      ]
    },
    {
      "cell_type": "markdown",
      "metadata": {
        "id": "KtiVmuAAsJjP"
      },
      "source": [
        "### Add 7 to all the elements of the above created tensor\n",
        "- Use Broadcasting"
      ]
    },
    {
      "cell_type": "code",
      "metadata": {
        "id": "h_CtEfsvTHDY"
      },
      "source": [
        ""
      ],
      "execution_count": null,
      "outputs": []
    },
    {
      "cell_type": "code",
      "metadata": {
        "id": "lENBbpfIsskl",
        "colab": {
          "base_uri": "https://localhost:8080/"
        },
        "outputId": "52de5442-8dc7-480e-d5b1-eae01e8682dc"
      },
      "source": [
        "print(tf.add(rank_1, [7]))\n",
        "print(rank_1 + 7)"
      ],
      "execution_count": 17,
      "outputs": [
        {
          "output_type": "stream",
          "text": [
            "tf.Tensor([16 15 14 13 12], shape=(5,), dtype=int32)\n",
            "tf.Tensor([16 15 14 13 12], shape=(5,), dtype=int32)\n"
          ],
          "name": "stdout"
        }
      ]
    },
    {
      "cell_type": "markdown",
      "metadata": {
        "id": "U9QVsYQwtR9u"
      },
      "source": [
        "### Create a rank-2 tensor\n",
        "[[1, 2, 3], [ 4,5,6]]\n",
        "- A \"matrix\"  \"is called rank-2\" tensor\n",
        "- It has 2 axes"
      ]
    },
    {
      "cell_type": "code",
      "metadata": {
        "id": "IZx8BooXnZUr",
        "colab": {
          "base_uri": "https://localhost:8080/"
        },
        "outputId": "66454962-f262-40c1-d537-30803b10acee"
      },
      "source": [
        "rank_2 = tf.constant([[1,2,3],[4,5,6]])\n",
        "rank_2"
      ],
      "execution_count": 19,
      "outputs": [
        {
          "output_type": "execute_result",
          "data": {
            "text/plain": [
              "<tf.Tensor: shape=(2, 3), dtype=int32, numpy=\n",
              "array([[1, 2, 3],\n",
              "       [4, 5, 6]], dtype=int32)>"
            ]
          },
          "metadata": {
            "tags": []
          },
          "execution_count": 19
        }
      ]
    },
    {
      "cell_type": "markdown",
      "metadata": {
        "id": "mrnIxOUmvX_M"
      },
      "source": [
        "### Change the shape of the above created tensor to shape (3,2)"
      ]
    },
    {
      "cell_type": "code",
      "metadata": {
        "id": "YdSy6RQLvXbi",
        "colab": {
          "base_uri": "https://localhost:8080/"
        },
        "outputId": "6d3cfa4a-1a9a-417b-fa18-117a93f998f4"
      },
      "source": [
        "tf.reshape(rank_2, [3,2])"
      ],
      "execution_count": 22,
      "outputs": [
        {
          "output_type": "execute_result",
          "data": {
            "text/plain": [
              "<tf.Tensor: shape=(3, 2), dtype=int32, numpy=\n",
              "array([[1, 2],\n",
              "       [3, 4],\n",
              "       [5, 6]], dtype=int32)>"
            ]
          },
          "metadata": {
            "tags": []
          },
          "execution_count": 22
        }
      ]
    },
    {
      "cell_type": "code",
      "metadata": {
        "id": "IZfvYZ_8wH4S",
        "colab": {
          "base_uri": "https://localhost:8080/"
        },
        "outputId": "db286e34-64ce-4321-e1b3-ace60abf2b80"
      },
      "source": [
        "tf.reshape(rank_2, [-1,2])"
      ],
      "execution_count": 23,
      "outputs": [
        {
          "output_type": "execute_result",
          "data": {
            "text/plain": [
              "<tf.Tensor: shape=(3, 2), dtype=int32, numpy=\n",
              "array([[1, 2],\n",
              "       [3, 4],\n",
              "       [5, 6]], dtype=int32)>"
            ]
          },
          "metadata": {
            "tags": []
          },
          "execution_count": 23
        }
      ]
    },
    {
      "cell_type": "markdown",
      "metadata": {
        "id": "1ZXjABdNuWAT"
      },
      "source": [
        "### Check the dtype, number of axes and the shape of tensor"
      ]
    },
    {
      "cell_type": "code",
      "metadata": {
        "id": "vXj5xnbEuUwz",
        "colab": {
          "base_uri": "https://localhost:8080/"
        },
        "outputId": "e3c4854b-7096-45bc-a041-c42ca362871a"
      },
      "source": [
        "print(rank_2.dtype)\n",
        "print(rank_2.ndim)\n",
        "print(rank_2.shape)"
      ],
      "execution_count": 31,
      "outputs": [
        {
          "output_type": "stream",
          "text": [
            "<dtype: 'int32'>\n",
            "2\n",
            "(2, 3)\n"
          ],
          "name": "stdout"
        }
      ]
    },
    {
      "cell_type": "markdown",
      "metadata": {
        "id": "yGsgzedZvB54"
      },
      "source": [
        "- Tensors can have more axes, like rank-3 or rank-4 tensor"
      ]
    },
    {
      "cell_type": "markdown",
      "metadata": {
        "id": "qYvGihNn_D2K"
      },
      "source": [
        "##Lab on NNDL Part 2: Cars selling price prediction"
      ]
    },
    {
      "cell_type": "markdown",
      "metadata": {
        "id": "S7nm5pOt_DkP"
      },
      "source": [
        "### Data Set -\n",
        "Domain: Finance, Business \n",
        "Data: https://www.kaggle.com/nehalbirla/vehicle-dataset-from-cardekho?select=Car+details+v3.csv\n",
        "\n",
        "The data contains various features of used cars.\n",
        "\n",
        "#### Features\n",
        "\n",
        "1. year\n",
        "\n",
        "2. selling_price: Price at which it was sold (**Target Feature**)\n",
        "\n",
        "3. km_driven\n",
        "\n",
        "4. fuel\n",
        "\n",
        "5. seller_type\n",
        "\n",
        "6. transmission\n",
        "\n",
        "7. Owner\n",
        "\n",
        "8. mileage\n",
        "\n",
        "9. engine\n",
        "\n",
        "10. max_power\n",
        "\n",
        "11. seats\n",
        "\n",
        " - - - - - - - - - - - - - - - - - - - - - - - - - - - - - - - - - - - - - - - - - - - - - - - "
      ]
    },
    {
      "cell_type": "markdown",
      "metadata": {
        "id": "YeoiMbH7djEv"
      },
      "source": [
        "##Objective\n",
        "\n",
        "Predict the selling price of used cars based on the given features"
      ]
    },
    {
      "cell_type": "markdown",
      "metadata": {
        "id": "sZXp-T3-xRNN"
      },
      "source": [
        "## Steps to perform:\n",
        "\n",
        "#### 1. Import important Libraries\n",
        "#### 2. Import Dataset and exploration\n",
        "#### 3. Data Pre-processing\n",
        "#### 4. Training a Neural Network Model\n",
        "#### 5. Evaluating the model\n",
        "#### 6. Conclusion\n",
        "\n",
        "\n",
        "- - - - - - - - - - - - - - - - - - - - - - - - - - - - - - - - - - - - - - - - - - - - - - - - - - -\n",
        "\n",
        "\n",
        "- - - - - - - - - - - - - - - - - - - - - - - - - - - - - - - - - - - - - - - - - - - - - - - - - - -\n"
      ]
    },
    {
      "cell_type": "markdown",
      "metadata": {
        "id": "pvJ1pMTuzUkv"
      },
      "source": [
        "### Import important libraries"
      ]
    },
    {
      "cell_type": "code",
      "metadata": {
        "id": "PGqq9f8VdLba"
      },
      "source": [
        "import pandas as pd\n",
        "import numpy as np\n",
        "import seaborn as sns\n",
        "import warnings\n",
        "warnings.filterwarnings('ignore')"
      ],
      "execution_count": 187,
      "outputs": []
    },
    {
      "cell_type": "markdown",
      "metadata": {
        "id": "_88voqAH-O6J"
      },
      "source": [
        "## Question 1"
      ]
    },
    {
      "cell_type": "markdown",
      "metadata": {
        "id": "dRHCeJqP-evf"
      },
      "source": [
        "### Load the data\n",
        "- Load the data, check the shape of data"
      ]
    },
    {
      "cell_type": "code",
      "metadata": {
        "id": "Gr4YcffYd1FQ"
      },
      "source": [
        "df = pd.read_csv('/content/car_data-1.csv')"
      ],
      "execution_count": 188,
      "outputs": []
    },
    {
      "cell_type": "code",
      "metadata": {
        "id": "-gDC6cSW_FSK"
      },
      "source": [
        ""
      ],
      "execution_count": 188,
      "outputs": []
    },
    {
      "cell_type": "code",
      "metadata": {
        "id": "cgAAxzef1m37",
        "colab": {
          "base_uri": "https://localhost:8080/",
          "height": 204
        },
        "outputId": "661c4f9a-ec6d-4203-a883-e732b3b57ae3"
      },
      "source": [
        "df.head()"
      ],
      "execution_count": 189,
      "outputs": [
        {
          "output_type": "execute_result",
          "data": {
            "text/html": [
              "<div>\n",
              "<style scoped>\n",
              "    .dataframe tbody tr th:only-of-type {\n",
              "        vertical-align: middle;\n",
              "    }\n",
              "\n",
              "    .dataframe tbody tr th {\n",
              "        vertical-align: top;\n",
              "    }\n",
              "\n",
              "    .dataframe thead th {\n",
              "        text-align: right;\n",
              "    }\n",
              "</style>\n",
              "<table border=\"1\" class=\"dataframe\">\n",
              "  <thead>\n",
              "    <tr style=\"text-align: right;\">\n",
              "      <th></th>\n",
              "      <th>year</th>\n",
              "      <th>selling_price</th>\n",
              "      <th>km_driven</th>\n",
              "      <th>fuel</th>\n",
              "      <th>seller_type</th>\n",
              "      <th>transmission</th>\n",
              "      <th>owner</th>\n",
              "      <th>mileage</th>\n",
              "      <th>engine</th>\n",
              "      <th>max_power</th>\n",
              "      <th>seats</th>\n",
              "    </tr>\n",
              "  </thead>\n",
              "  <tbody>\n",
              "    <tr>\n",
              "      <th>0</th>\n",
              "      <td>2014</td>\n",
              "      <td>450000</td>\n",
              "      <td>145500</td>\n",
              "      <td>Diesel</td>\n",
              "      <td>Individual</td>\n",
              "      <td>Manual</td>\n",
              "      <td>First Owner</td>\n",
              "      <td>23.4 kmpl</td>\n",
              "      <td>1248 CC</td>\n",
              "      <td>74 bhp</td>\n",
              "      <td>5.0</td>\n",
              "    </tr>\n",
              "    <tr>\n",
              "      <th>1</th>\n",
              "      <td>2014</td>\n",
              "      <td>370000</td>\n",
              "      <td>120000</td>\n",
              "      <td>Diesel</td>\n",
              "      <td>Individual</td>\n",
              "      <td>Manual</td>\n",
              "      <td>Second Owner</td>\n",
              "      <td>21.14 kmpl</td>\n",
              "      <td>1498 CC</td>\n",
              "      <td>103.52 bhp</td>\n",
              "      <td>5.0</td>\n",
              "    </tr>\n",
              "    <tr>\n",
              "      <th>2</th>\n",
              "      <td>2006</td>\n",
              "      <td>158000</td>\n",
              "      <td>140000</td>\n",
              "      <td>Petrol</td>\n",
              "      <td>Individual</td>\n",
              "      <td>Manual</td>\n",
              "      <td>Third Owner</td>\n",
              "      <td>17.7 kmpl</td>\n",
              "      <td>1497 CC</td>\n",
              "      <td>78 bhp</td>\n",
              "      <td>5.0</td>\n",
              "    </tr>\n",
              "    <tr>\n",
              "      <th>3</th>\n",
              "      <td>2010</td>\n",
              "      <td>225000</td>\n",
              "      <td>127000</td>\n",
              "      <td>Diesel</td>\n",
              "      <td>Individual</td>\n",
              "      <td>Manual</td>\n",
              "      <td>First Owner</td>\n",
              "      <td>23.0 kmpl</td>\n",
              "      <td>1396 CC</td>\n",
              "      <td>90 bhp</td>\n",
              "      <td>5.0</td>\n",
              "    </tr>\n",
              "    <tr>\n",
              "      <th>4</th>\n",
              "      <td>2007</td>\n",
              "      <td>130000</td>\n",
              "      <td>120000</td>\n",
              "      <td>Petrol</td>\n",
              "      <td>Individual</td>\n",
              "      <td>Manual</td>\n",
              "      <td>First Owner</td>\n",
              "      <td>16.1 kmpl</td>\n",
              "      <td>1298 CC</td>\n",
              "      <td>88.2 bhp</td>\n",
              "      <td>5.0</td>\n",
              "    </tr>\n",
              "  </tbody>\n",
              "</table>\n",
              "</div>"
            ],
            "text/plain": [
              "   year  selling_price  km_driven  ...   engine   max_power seats\n",
              "0  2014         450000     145500  ...  1248 CC      74 bhp   5.0\n",
              "1  2014         370000     120000  ...  1498 CC  103.52 bhp   5.0\n",
              "2  2006         158000     140000  ...  1497 CC      78 bhp   5.0\n",
              "3  2010         225000     127000  ...  1396 CC      90 bhp   5.0\n",
              "4  2007         130000     120000  ...  1298 CC    88.2 bhp   5.0\n",
              "\n",
              "[5 rows x 11 columns]"
            ]
          },
          "metadata": {
            "tags": []
          },
          "execution_count": 189
        }
      ]
    },
    {
      "cell_type": "code",
      "metadata": {
        "colab": {
          "base_uri": "https://localhost:8080/"
        },
        "id": "Yz-eUUtJYqky",
        "outputId": "74e926c0-821b-4eac-8109-585693ccb73b"
      },
      "source": [
        "df.shape"
      ],
      "execution_count": 190,
      "outputs": [
        {
          "output_type": "execute_result",
          "data": {
            "text/plain": [
              "(8128, 11)"
            ]
          },
          "metadata": {
            "tags": []
          },
          "execution_count": 190
        }
      ]
    },
    {
      "cell_type": "markdown",
      "metadata": {
        "id": "HlLKVPVH_BCT"
      },
      "source": [
        "## Question 2"
      ]
    },
    {
      "cell_type": "markdown",
      "metadata": {
        "id": "ZxoGynuBeO4t"
      },
      "source": [
        "### Preprocess the data\n",
        "- Convert mileage, engine and max_power to numerical by extract numerical values from the strings\n",
        "- Label Encode: 'owner' column\n",
        "- One Hot Encode: 'fuel','seller_type','transmission' columns\n",
        "- Drop all the instances with null values"
      ]
    },
    {
      "cell_type": "code",
      "metadata": {
        "id": "X_FaEocL4X4h"
      },
      "source": [
        "def map_num(num):\n",
        "    try:\n",
        "        if type(num) == str:\n",
        "            return float(num.split()[0])\n",
        "        else:\n",
        "            return num\n",
        "    except:\n",
        "        return np.nan\n"
      ],
      "execution_count": 191,
      "outputs": []
    },
    {
      "cell_type": "code",
      "metadata": {
        "id": "FPAQ-IBf4Z9k"
      },
      "source": [
        "df[['mileage','engine','max_power']] = df[['mileage','engine','max_power']].applymap(map_num)\n"
      ],
      "execution_count": 192,
      "outputs": []
    },
    {
      "cell_type": "code",
      "metadata": {
        "id": "q7fwyFQn4qD2",
        "colab": {
          "base_uri": "https://localhost:8080/",
          "height": 204
        },
        "outputId": "c5b5bc56-8670-44f0-924d-15e2db25a4a4"
      },
      "source": [
        "df.head()"
      ],
      "execution_count": 193,
      "outputs": [
        {
          "output_type": "execute_result",
          "data": {
            "text/html": [
              "<div>\n",
              "<style scoped>\n",
              "    .dataframe tbody tr th:only-of-type {\n",
              "        vertical-align: middle;\n",
              "    }\n",
              "\n",
              "    .dataframe tbody tr th {\n",
              "        vertical-align: top;\n",
              "    }\n",
              "\n",
              "    .dataframe thead th {\n",
              "        text-align: right;\n",
              "    }\n",
              "</style>\n",
              "<table border=\"1\" class=\"dataframe\">\n",
              "  <thead>\n",
              "    <tr style=\"text-align: right;\">\n",
              "      <th></th>\n",
              "      <th>year</th>\n",
              "      <th>selling_price</th>\n",
              "      <th>km_driven</th>\n",
              "      <th>fuel</th>\n",
              "      <th>seller_type</th>\n",
              "      <th>transmission</th>\n",
              "      <th>owner</th>\n",
              "      <th>mileage</th>\n",
              "      <th>engine</th>\n",
              "      <th>max_power</th>\n",
              "      <th>seats</th>\n",
              "    </tr>\n",
              "  </thead>\n",
              "  <tbody>\n",
              "    <tr>\n",
              "      <th>0</th>\n",
              "      <td>2014</td>\n",
              "      <td>450000</td>\n",
              "      <td>145500</td>\n",
              "      <td>Diesel</td>\n",
              "      <td>Individual</td>\n",
              "      <td>Manual</td>\n",
              "      <td>First Owner</td>\n",
              "      <td>23.40</td>\n",
              "      <td>1248.0</td>\n",
              "      <td>74.00</td>\n",
              "      <td>5.0</td>\n",
              "    </tr>\n",
              "    <tr>\n",
              "      <th>1</th>\n",
              "      <td>2014</td>\n",
              "      <td>370000</td>\n",
              "      <td>120000</td>\n",
              "      <td>Diesel</td>\n",
              "      <td>Individual</td>\n",
              "      <td>Manual</td>\n",
              "      <td>Second Owner</td>\n",
              "      <td>21.14</td>\n",
              "      <td>1498.0</td>\n",
              "      <td>103.52</td>\n",
              "      <td>5.0</td>\n",
              "    </tr>\n",
              "    <tr>\n",
              "      <th>2</th>\n",
              "      <td>2006</td>\n",
              "      <td>158000</td>\n",
              "      <td>140000</td>\n",
              "      <td>Petrol</td>\n",
              "      <td>Individual</td>\n",
              "      <td>Manual</td>\n",
              "      <td>Third Owner</td>\n",
              "      <td>17.70</td>\n",
              "      <td>1497.0</td>\n",
              "      <td>78.00</td>\n",
              "      <td>5.0</td>\n",
              "    </tr>\n",
              "    <tr>\n",
              "      <th>3</th>\n",
              "      <td>2010</td>\n",
              "      <td>225000</td>\n",
              "      <td>127000</td>\n",
              "      <td>Diesel</td>\n",
              "      <td>Individual</td>\n",
              "      <td>Manual</td>\n",
              "      <td>First Owner</td>\n",
              "      <td>23.00</td>\n",
              "      <td>1396.0</td>\n",
              "      <td>90.00</td>\n",
              "      <td>5.0</td>\n",
              "    </tr>\n",
              "    <tr>\n",
              "      <th>4</th>\n",
              "      <td>2007</td>\n",
              "      <td>130000</td>\n",
              "      <td>120000</td>\n",
              "      <td>Petrol</td>\n",
              "      <td>Individual</td>\n",
              "      <td>Manual</td>\n",
              "      <td>First Owner</td>\n",
              "      <td>16.10</td>\n",
              "      <td>1298.0</td>\n",
              "      <td>88.20</td>\n",
              "      <td>5.0</td>\n",
              "    </tr>\n",
              "  </tbody>\n",
              "</table>\n",
              "</div>"
            ],
            "text/plain": [
              "   year  selling_price  km_driven    fuel  ... mileage  engine max_power  seats\n",
              "0  2014         450000     145500  Diesel  ...   23.40  1248.0     74.00    5.0\n",
              "1  2014         370000     120000  Diesel  ...   21.14  1498.0    103.52    5.0\n",
              "2  2006         158000     140000  Petrol  ...   17.70  1497.0     78.00    5.0\n",
              "3  2010         225000     127000  Diesel  ...   23.00  1396.0     90.00    5.0\n",
              "4  2007         130000     120000  Petrol  ...   16.10  1298.0     88.20    5.0\n",
              "\n",
              "[5 rows x 11 columns]"
            ]
          },
          "metadata": {
            "tags": []
          },
          "execution_count": 193
        }
      ]
    },
    {
      "cell_type": "code",
      "metadata": {
        "id": "hrtGjfu84tZY"
      },
      "source": [
        ""
      ],
      "execution_count": 193,
      "outputs": []
    },
    {
      "cell_type": "code",
      "metadata": {
        "id": "btbL2MeO4wTs",
        "colab": {
          "base_uri": "https://localhost:8080/",
          "height": 204
        },
        "outputId": "157d519d-12dc-4b13-868e-a359c63fb5ed"
      },
      "source": [
        "o = {'First Owner':1, 'Second Owner':2, 'Third Owner':3,\n",
        "       'Fourth & Above Owner':4, 'Test Drive Car':5}\n",
        "df['owner'] = df['owner'].map(o)\n",
        "df.head()\n"
      ],
      "execution_count": 194,
      "outputs": [
        {
          "output_type": "execute_result",
          "data": {
            "text/html": [
              "<div>\n",
              "<style scoped>\n",
              "    .dataframe tbody tr th:only-of-type {\n",
              "        vertical-align: middle;\n",
              "    }\n",
              "\n",
              "    .dataframe tbody tr th {\n",
              "        vertical-align: top;\n",
              "    }\n",
              "\n",
              "    .dataframe thead th {\n",
              "        text-align: right;\n",
              "    }\n",
              "</style>\n",
              "<table border=\"1\" class=\"dataframe\">\n",
              "  <thead>\n",
              "    <tr style=\"text-align: right;\">\n",
              "      <th></th>\n",
              "      <th>year</th>\n",
              "      <th>selling_price</th>\n",
              "      <th>km_driven</th>\n",
              "      <th>fuel</th>\n",
              "      <th>seller_type</th>\n",
              "      <th>transmission</th>\n",
              "      <th>owner</th>\n",
              "      <th>mileage</th>\n",
              "      <th>engine</th>\n",
              "      <th>max_power</th>\n",
              "      <th>seats</th>\n",
              "    </tr>\n",
              "  </thead>\n",
              "  <tbody>\n",
              "    <tr>\n",
              "      <th>0</th>\n",
              "      <td>2014</td>\n",
              "      <td>450000</td>\n",
              "      <td>145500</td>\n",
              "      <td>Diesel</td>\n",
              "      <td>Individual</td>\n",
              "      <td>Manual</td>\n",
              "      <td>1</td>\n",
              "      <td>23.40</td>\n",
              "      <td>1248.0</td>\n",
              "      <td>74.00</td>\n",
              "      <td>5.0</td>\n",
              "    </tr>\n",
              "    <tr>\n",
              "      <th>1</th>\n",
              "      <td>2014</td>\n",
              "      <td>370000</td>\n",
              "      <td>120000</td>\n",
              "      <td>Diesel</td>\n",
              "      <td>Individual</td>\n",
              "      <td>Manual</td>\n",
              "      <td>2</td>\n",
              "      <td>21.14</td>\n",
              "      <td>1498.0</td>\n",
              "      <td>103.52</td>\n",
              "      <td>5.0</td>\n",
              "    </tr>\n",
              "    <tr>\n",
              "      <th>2</th>\n",
              "      <td>2006</td>\n",
              "      <td>158000</td>\n",
              "      <td>140000</td>\n",
              "      <td>Petrol</td>\n",
              "      <td>Individual</td>\n",
              "      <td>Manual</td>\n",
              "      <td>3</td>\n",
              "      <td>17.70</td>\n",
              "      <td>1497.0</td>\n",
              "      <td>78.00</td>\n",
              "      <td>5.0</td>\n",
              "    </tr>\n",
              "    <tr>\n",
              "      <th>3</th>\n",
              "      <td>2010</td>\n",
              "      <td>225000</td>\n",
              "      <td>127000</td>\n",
              "      <td>Diesel</td>\n",
              "      <td>Individual</td>\n",
              "      <td>Manual</td>\n",
              "      <td>1</td>\n",
              "      <td>23.00</td>\n",
              "      <td>1396.0</td>\n",
              "      <td>90.00</td>\n",
              "      <td>5.0</td>\n",
              "    </tr>\n",
              "    <tr>\n",
              "      <th>4</th>\n",
              "      <td>2007</td>\n",
              "      <td>130000</td>\n",
              "      <td>120000</td>\n",
              "      <td>Petrol</td>\n",
              "      <td>Individual</td>\n",
              "      <td>Manual</td>\n",
              "      <td>1</td>\n",
              "      <td>16.10</td>\n",
              "      <td>1298.0</td>\n",
              "      <td>88.20</td>\n",
              "      <td>5.0</td>\n",
              "    </tr>\n",
              "  </tbody>\n",
              "</table>\n",
              "</div>"
            ],
            "text/plain": [
              "   year  selling_price  km_driven    fuel  ... mileage  engine  max_power  seats\n",
              "0  2014         450000     145500  Diesel  ...   23.40  1248.0      74.00    5.0\n",
              "1  2014         370000     120000  Diesel  ...   21.14  1498.0     103.52    5.0\n",
              "2  2006         158000     140000  Petrol  ...   17.70  1497.0      78.00    5.0\n",
              "3  2010         225000     127000  Diesel  ...   23.00  1396.0      90.00    5.0\n",
              "4  2007         130000     120000  Petrol  ...   16.10  1298.0      88.20    5.0\n",
              "\n",
              "[5 rows x 11 columns]"
            ]
          },
          "metadata": {
            "tags": []
          },
          "execution_count": 194
        }
      ]
    },
    {
      "cell_type": "code",
      "metadata": {
        "colab": {
          "base_uri": "https://localhost:8080/",
          "height": 204
        },
        "id": "wgbtyIlCdRmf",
        "outputId": "6f78dcce-7244-4ee0-9870-c99b7dc8780a"
      },
      "source": [
        "from  sklearn.preprocessing import OneHotEncoder\n",
        "ohe= OneHotEncoder(sparse=False, dtype=np.int64)\n",
        "cat_col = ['fuel', 'seller_type', 'transmission']\n",
        "z=ohe.fit_transform(df[cat_col])\n",
        "encoded_data = pd.DataFrame(z,columns=ohe.get_feature_names(cat_col))\n",
        "encoded_data.head()"
      ],
      "execution_count": 195,
      "outputs": [
        {
          "output_type": "execute_result",
          "data": {
            "text/html": [
              "<div>\n",
              "<style scoped>\n",
              "    .dataframe tbody tr th:only-of-type {\n",
              "        vertical-align: middle;\n",
              "    }\n",
              "\n",
              "    .dataframe tbody tr th {\n",
              "        vertical-align: top;\n",
              "    }\n",
              "\n",
              "    .dataframe thead th {\n",
              "        text-align: right;\n",
              "    }\n",
              "</style>\n",
              "<table border=\"1\" class=\"dataframe\">\n",
              "  <thead>\n",
              "    <tr style=\"text-align: right;\">\n",
              "      <th></th>\n",
              "      <th>fuel_CNG</th>\n",
              "      <th>fuel_Diesel</th>\n",
              "      <th>fuel_LPG</th>\n",
              "      <th>fuel_Petrol</th>\n",
              "      <th>seller_type_Dealer</th>\n",
              "      <th>seller_type_Individual</th>\n",
              "      <th>seller_type_Trustmark Dealer</th>\n",
              "      <th>transmission_Automatic</th>\n",
              "      <th>transmission_Manual</th>\n",
              "    </tr>\n",
              "  </thead>\n",
              "  <tbody>\n",
              "    <tr>\n",
              "      <th>0</th>\n",
              "      <td>0</td>\n",
              "      <td>1</td>\n",
              "      <td>0</td>\n",
              "      <td>0</td>\n",
              "      <td>0</td>\n",
              "      <td>1</td>\n",
              "      <td>0</td>\n",
              "      <td>0</td>\n",
              "      <td>1</td>\n",
              "    </tr>\n",
              "    <tr>\n",
              "      <th>1</th>\n",
              "      <td>0</td>\n",
              "      <td>1</td>\n",
              "      <td>0</td>\n",
              "      <td>0</td>\n",
              "      <td>0</td>\n",
              "      <td>1</td>\n",
              "      <td>0</td>\n",
              "      <td>0</td>\n",
              "      <td>1</td>\n",
              "    </tr>\n",
              "    <tr>\n",
              "      <th>2</th>\n",
              "      <td>0</td>\n",
              "      <td>0</td>\n",
              "      <td>0</td>\n",
              "      <td>1</td>\n",
              "      <td>0</td>\n",
              "      <td>1</td>\n",
              "      <td>0</td>\n",
              "      <td>0</td>\n",
              "      <td>1</td>\n",
              "    </tr>\n",
              "    <tr>\n",
              "      <th>3</th>\n",
              "      <td>0</td>\n",
              "      <td>1</td>\n",
              "      <td>0</td>\n",
              "      <td>0</td>\n",
              "      <td>0</td>\n",
              "      <td>1</td>\n",
              "      <td>0</td>\n",
              "      <td>0</td>\n",
              "      <td>1</td>\n",
              "    </tr>\n",
              "    <tr>\n",
              "      <th>4</th>\n",
              "      <td>0</td>\n",
              "      <td>0</td>\n",
              "      <td>0</td>\n",
              "      <td>1</td>\n",
              "      <td>0</td>\n",
              "      <td>1</td>\n",
              "      <td>0</td>\n",
              "      <td>0</td>\n",
              "      <td>1</td>\n",
              "    </tr>\n",
              "  </tbody>\n",
              "</table>\n",
              "</div>"
            ],
            "text/plain": [
              "   fuel_CNG  fuel_Diesel  ...  transmission_Automatic  transmission_Manual\n",
              "0         0            1  ...                       0                    1\n",
              "1         0            1  ...                       0                    1\n",
              "2         0            0  ...                       0                    1\n",
              "3         0            1  ...                       0                    1\n",
              "4         0            0  ...                       0                    1\n",
              "\n",
              "[5 rows x 9 columns]"
            ]
          },
          "metadata": {
            "tags": []
          },
          "execution_count": 195
        }
      ]
    },
    {
      "cell_type": "code",
      "metadata": {
        "colab": {
          "base_uri": "https://localhost:8080/",
          "height": 241
        },
        "id": "ocBY62ryfOFt",
        "outputId": "a3b15952-d236-4f86-b2bb-9fed3466e4c6"
      },
      "source": [
        "df1=df.drop(columns=cat_col, axis=1)\n",
        "final_df = pd.concat([df1, encoded_data], axis=1)\n",
        "final_df.head()"
      ],
      "execution_count": 196,
      "outputs": [
        {
          "output_type": "execute_result",
          "data": {
            "text/html": [
              "<div>\n",
              "<style scoped>\n",
              "    .dataframe tbody tr th:only-of-type {\n",
              "        vertical-align: middle;\n",
              "    }\n",
              "\n",
              "    .dataframe tbody tr th {\n",
              "        vertical-align: top;\n",
              "    }\n",
              "\n",
              "    .dataframe thead th {\n",
              "        text-align: right;\n",
              "    }\n",
              "</style>\n",
              "<table border=\"1\" class=\"dataframe\">\n",
              "  <thead>\n",
              "    <tr style=\"text-align: right;\">\n",
              "      <th></th>\n",
              "      <th>year</th>\n",
              "      <th>selling_price</th>\n",
              "      <th>km_driven</th>\n",
              "      <th>owner</th>\n",
              "      <th>mileage</th>\n",
              "      <th>engine</th>\n",
              "      <th>max_power</th>\n",
              "      <th>seats</th>\n",
              "      <th>fuel_CNG</th>\n",
              "      <th>fuel_Diesel</th>\n",
              "      <th>fuel_LPG</th>\n",
              "      <th>fuel_Petrol</th>\n",
              "      <th>seller_type_Dealer</th>\n",
              "      <th>seller_type_Individual</th>\n",
              "      <th>seller_type_Trustmark Dealer</th>\n",
              "      <th>transmission_Automatic</th>\n",
              "      <th>transmission_Manual</th>\n",
              "    </tr>\n",
              "  </thead>\n",
              "  <tbody>\n",
              "    <tr>\n",
              "      <th>0</th>\n",
              "      <td>2014</td>\n",
              "      <td>450000</td>\n",
              "      <td>145500</td>\n",
              "      <td>1</td>\n",
              "      <td>23.40</td>\n",
              "      <td>1248.0</td>\n",
              "      <td>74.00</td>\n",
              "      <td>5.0</td>\n",
              "      <td>0</td>\n",
              "      <td>1</td>\n",
              "      <td>0</td>\n",
              "      <td>0</td>\n",
              "      <td>0</td>\n",
              "      <td>1</td>\n",
              "      <td>0</td>\n",
              "      <td>0</td>\n",
              "      <td>1</td>\n",
              "    </tr>\n",
              "    <tr>\n",
              "      <th>1</th>\n",
              "      <td>2014</td>\n",
              "      <td>370000</td>\n",
              "      <td>120000</td>\n",
              "      <td>2</td>\n",
              "      <td>21.14</td>\n",
              "      <td>1498.0</td>\n",
              "      <td>103.52</td>\n",
              "      <td>5.0</td>\n",
              "      <td>0</td>\n",
              "      <td>1</td>\n",
              "      <td>0</td>\n",
              "      <td>0</td>\n",
              "      <td>0</td>\n",
              "      <td>1</td>\n",
              "      <td>0</td>\n",
              "      <td>0</td>\n",
              "      <td>1</td>\n",
              "    </tr>\n",
              "    <tr>\n",
              "      <th>2</th>\n",
              "      <td>2006</td>\n",
              "      <td>158000</td>\n",
              "      <td>140000</td>\n",
              "      <td>3</td>\n",
              "      <td>17.70</td>\n",
              "      <td>1497.0</td>\n",
              "      <td>78.00</td>\n",
              "      <td>5.0</td>\n",
              "      <td>0</td>\n",
              "      <td>0</td>\n",
              "      <td>0</td>\n",
              "      <td>1</td>\n",
              "      <td>0</td>\n",
              "      <td>1</td>\n",
              "      <td>0</td>\n",
              "      <td>0</td>\n",
              "      <td>1</td>\n",
              "    </tr>\n",
              "    <tr>\n",
              "      <th>3</th>\n",
              "      <td>2010</td>\n",
              "      <td>225000</td>\n",
              "      <td>127000</td>\n",
              "      <td>1</td>\n",
              "      <td>23.00</td>\n",
              "      <td>1396.0</td>\n",
              "      <td>90.00</td>\n",
              "      <td>5.0</td>\n",
              "      <td>0</td>\n",
              "      <td>1</td>\n",
              "      <td>0</td>\n",
              "      <td>0</td>\n",
              "      <td>0</td>\n",
              "      <td>1</td>\n",
              "      <td>0</td>\n",
              "      <td>0</td>\n",
              "      <td>1</td>\n",
              "    </tr>\n",
              "    <tr>\n",
              "      <th>4</th>\n",
              "      <td>2007</td>\n",
              "      <td>130000</td>\n",
              "      <td>120000</td>\n",
              "      <td>1</td>\n",
              "      <td>16.10</td>\n",
              "      <td>1298.0</td>\n",
              "      <td>88.20</td>\n",
              "      <td>5.0</td>\n",
              "      <td>0</td>\n",
              "      <td>0</td>\n",
              "      <td>0</td>\n",
              "      <td>1</td>\n",
              "      <td>0</td>\n",
              "      <td>1</td>\n",
              "      <td>0</td>\n",
              "      <td>0</td>\n",
              "      <td>1</td>\n",
              "    </tr>\n",
              "  </tbody>\n",
              "</table>\n",
              "</div>"
            ],
            "text/plain": [
              "   year  selling_price  ...  transmission_Automatic  transmission_Manual\n",
              "0  2014         450000  ...                       0                    1\n",
              "1  2014         370000  ...                       0                    1\n",
              "2  2006         158000  ...                       0                    1\n",
              "3  2010         225000  ...                       0                    1\n",
              "4  2007         130000  ...                       0                    1\n",
              "\n",
              "[5 rows x 17 columns]"
            ]
          },
          "metadata": {
            "tags": []
          },
          "execution_count": 196
        }
      ]
    },
    {
      "cell_type": "code",
      "metadata": {
        "id": "jzeMuq7JgP-j"
      },
      "source": [
        "final_df.dropna(inplace=True)\n"
      ],
      "execution_count": 197,
      "outputs": []
    },
    {
      "cell_type": "markdown",
      "metadata": {
        "id": "ez91ID6AEgPm"
      },
      "source": [
        "## Question 3"
      ]
    },
    {
      "cell_type": "markdown",
      "metadata": {
        "id": "9J4BlzVA_gZd"
      },
      "source": [
        "### Split the data and then scale the data\n",
        "- Split the data into ratio of 75:25 with random state=12\n",
        "- Perform standard scaling on X_train and X_test data\n"
      ]
    },
    {
      "cell_type": "code",
      "metadata": {
        "id": "1DAMRVL_BHQj"
      },
      "source": [
        ""
      ],
      "execution_count": 197,
      "outputs": []
    },
    {
      "cell_type": "code",
      "metadata": {
        "id": "IKEK8aEE_Csx"
      },
      "source": [
        "X = final_df.drop('selling_price', axis=1)\n",
        "y = final_df['selling_price']\n"
      ],
      "execution_count": 198,
      "outputs": []
    },
    {
      "cell_type": "code",
      "metadata": {
        "id": "Zz6a_VjQis44"
      },
      "source": [
        ""
      ],
      "execution_count": 198,
      "outputs": []
    },
    {
      "cell_type": "code",
      "metadata": {
        "id": "Af-5K9Gzinop"
      },
      "source": [
        ""
      ],
      "execution_count": 198,
      "outputs": []
    },
    {
      "cell_type": "code",
      "metadata": {
        "id": "59F0lA4z8SH-",
        "colab": {
          "base_uri": "https://localhost:8080/"
        },
        "outputId": "04408722-a646-4b61-8659-88d98a09b470"
      },
      "source": [
        "from sklearn.model_selection import train_test_split\n",
        "x_train, x_test, y_train, y_test = train_test_split(X, y, test_size=0.25, random_state=12)\n",
        "\n",
        "x_train.shape, x_test.shape, y_train.shape, y_test.shape"
      ],
      "execution_count": 199,
      "outputs": [
        {
          "output_type": "execute_result",
          "data": {
            "text/plain": [
              "((5929, 16), (1977, 16), (5929,), (1977,))"
            ]
          },
          "metadata": {
            "tags": []
          },
          "execution_count": 199
        }
      ]
    },
    {
      "cell_type": "code",
      "metadata": {
        "id": "BV3O0ugbmCyc"
      },
      "source": [
        "from sklearn.preprocessing import StandardScaler\n",
        "sc = StandardScaler()\n",
        "x_train_sc = sc.fit_transform(x_train)\n",
        "x_test_Sc = sc.transform(x_test)\n"
      ],
      "execution_count": 200,
      "outputs": []
    },
    {
      "cell_type": "markdown",
      "metadata": {
        "id": "cTPhO6v-AiZt"
      },
      "source": [
        "## Question 4"
      ]
    },
    {
      "cell_type": "markdown",
      "metadata": {
        "id": "SsZXmF3NAkna"
      },
      "source": [
        "### Create a Deep Neural Network Model for Regression\n",
        "- Initialize a Sequential model\n",
        "- Add 3 hidden layer with activation relu (Number of neurons = 64,128,32 respectively)\n",
        "- Add dropout layer after each hidden layer\n",
        "- Add a Dense layer with one neuron as output, use activation linear\n",
        "  \n"
      ]
    },
    {
      "cell_type": "code",
      "metadata": {
        "id": "aKs04iIHAjxN"
      },
      "source": [
        "tf.keras.backend.clear_session()\n",
        "model = tf.keras.models.Sequential()\n",
        "\n",
        "from tensorflow.keras.layers import Flatten, Dense, Input, BatchNormalization\n",
        "\n",
        "model=tf.keras.Sequential()\n",
        "model.add(tf.keras.Input(shape=(16)))\n",
        "model.add(tf.keras.layers.BatchNormalization())"
      ],
      "execution_count": 201,
      "outputs": []
    },
    {
      "cell_type": "code",
      "metadata": {
        "id": "Rj2hZoiGtx3x"
      },
      "source": [
        ""
      ],
      "execution_count": 201,
      "outputs": []
    },
    {
      "cell_type": "code",
      "metadata": {
        "id": "Eq7fT9OwqyME"
      },
      "source": [
        ""
      ],
      "execution_count": 201,
      "outputs": []
    },
    {
      "cell_type": "code",
      "metadata": {
        "id": "pgGz-u36pqAw"
      },
      "source": [
        "from tensorflow.keras.layers import Flatten, Dense, Input, BatchNormalization\n",
        "from keras.utils.vis_utils import plot_model"
      ],
      "execution_count": 202,
      "outputs": []
    },
    {
      "cell_type": "code",
      "metadata": {
        "id": "d9FnOv3op74_"
      },
      "source": [
        ""
      ],
      "execution_count": 202,
      "outputs": []
    },
    {
      "cell_type": "markdown",
      "metadata": {
        "id": "aHstM0fX_-kI"
      },
      "source": [
        "### Check model summary and visualize the model"
      ]
    },
    {
      "cell_type": "markdown",
      "metadata": {
        "id": "qLRB9S1stsQt"
      },
      "source": [
        ""
      ]
    },
    {
      "cell_type": "code",
      "metadata": {
        "id": "xQjCMzUXBJbg"
      },
      "source": [
        "#Hidden layers\n",
        "model.add(tf.keras.layers.Dense(64, activation='relu', name='Layer_1'))\n",
        "model.add(tf.keras.layers.BatchNormalization())\n",
        "#Dropout layer\n",
        "model.add(tf.keras.layers.Dropout(0.15))\n",
        "\n",
        "\n",
        "model.add(tf.keras.layers.Dense(128, activation='relu', name='Layer_2'))\n",
        "model.add(tf.keras.layers.BatchNormalization())\n",
        "#Dropout layer\n",
        "model.add(tf.keras.layers.Dropout(0.10))\n",
        "\n",
        "#Hidden layers\n",
        "model.add(tf.keras.layers.Dense(32, activation='relu', name='Layer_3'))\n",
        "model.add(tf.keras.layers.BatchNormalization())\n",
        "#Dropout layer\n",
        "model.add(tf.keras.layers.Dropout(0.05))\n",
        "\n",
        "\n",
        "#Output layer\n",
        "model.add(tf.keras.layers.Dense(1, activation='linear', name='Output'))"
      ],
      "execution_count": 203,
      "outputs": []
    },
    {
      "cell_type": "code",
      "metadata": {
        "id": "Ksap6Rx0BNIw",
        "colab": {
          "base_uri": "https://localhost:8080/"
        },
        "outputId": "6fcc4ba4-2209-40e8-953f-d2474f62ebb7"
      },
      "source": [
        "model.summary()"
      ],
      "execution_count": 204,
      "outputs": [
        {
          "output_type": "stream",
          "text": [
            "Model: \"sequential_1\"\n",
            "_________________________________________________________________\n",
            "Layer (type)                 Output Shape              Param #   \n",
            "=================================================================\n",
            "batch_normalization (BatchNo (None, 16)                64        \n",
            "_________________________________________________________________\n",
            "Layer_1 (Dense)              (None, 64)                1088      \n",
            "_________________________________________________________________\n",
            "batch_normalization_1 (Batch (None, 64)                256       \n",
            "_________________________________________________________________\n",
            "dropout (Dropout)            (None, 64)                0         \n",
            "_________________________________________________________________\n",
            "Layer_2 (Dense)              (None, 128)               8320      \n",
            "_________________________________________________________________\n",
            "batch_normalization_2 (Batch (None, 128)               512       \n",
            "_________________________________________________________________\n",
            "dropout_1 (Dropout)          (None, 128)               0         \n",
            "_________________________________________________________________\n",
            "Layer_3 (Dense)              (None, 32)                4128      \n",
            "_________________________________________________________________\n",
            "batch_normalization_3 (Batch (None, 32)                128       \n",
            "_________________________________________________________________\n",
            "dropout_2 (Dropout)          (None, 32)                0         \n",
            "_________________________________________________________________\n",
            "Output (Dense)               (None, 1)                 33        \n",
            "=================================================================\n",
            "Total params: 14,529\n",
            "Trainable params: 14,049\n",
            "Non-trainable params: 480\n",
            "_________________________________________________________________\n"
          ],
          "name": "stdout"
        }
      ]
    },
    {
      "cell_type": "code",
      "metadata": {
        "id": "LLc90Z4wtO0L"
      },
      "source": [
        ""
      ],
      "execution_count": 204,
      "outputs": []
    },
    {
      "cell_type": "markdown",
      "metadata": {
        "id": "y7WTmUI-Ey95"
      },
      "source": [
        "## Question 5"
      ]
    },
    {
      "cell_type": "markdown",
      "metadata": {
        "id": "C8u_jlbABTip"
      },
      "source": [
        "### Compile the model\n",
        "\n",
        "- Compile the model\n",
        "- Use \"adam\" optimizer\n",
        "- for calculating loss, use mean absolute error\n",
        "- use R2 score (coefficient of determination) as the metric"
      ]
    },
    {
      "cell_type": "code",
      "metadata": {
        "id": "kwwlb4V8zSdo"
      },
      "source": [
        "from keras import backend as K\n",
        "def r_2_Score(y_true, y_pred):\n",
        "  SS_resid = K.sum(K.square(y_true-y_pred))\n",
        "  SS_total = K.sum(K.square(y_true-K.mean(y_true)))\n",
        "  return (1-SS_resid/(SS_total+ K.epsilon()))"
      ],
      "execution_count": 205,
      "outputs": []
    },
    {
      "cell_type": "code",
      "metadata": {
        "id": "i8YNahBw0PVc"
      },
      "source": [
        ""
      ],
      "execution_count": 205,
      "outputs": []
    },
    {
      "cell_type": "code",
      "metadata": {
        "id": "0aDDAcT7xHB0"
      },
      "source": [
        "opt = tf.keras.optimizers.Adam(learning_rate=0.01)\n",
        "\n",
        "model.compile(optimizer=opt, loss='mean_absolute_error', metrics=[r_2_Score])"
      ],
      "execution_count": 206,
      "outputs": []
    },
    {
      "cell_type": "code",
      "metadata": {
        "id": "_bxtG5P9-5BP"
      },
      "source": [
        "callback=tf.keras.callbacks.EarlyStopping(monitor='val_loss', patience=10, restore_best_weights=True, mode='min')"
      ],
      "execution_count": 207,
      "outputs": []
    },
    {
      "cell_type": "code",
      "metadata": {
        "id": "y32gAdGYtica"
      },
      "source": [
        ""
      ],
      "execution_count": 207,
      "outputs": []
    },
    {
      "cell_type": "markdown",
      "metadata": {
        "id": "s-ntyk6k_EmT"
      },
      "source": [
        "Other metrics can also be used to track the learning of the model:\n",
        "\n",
        "To learn different metrics for classification and regression visit the following link:\n",
        "\n",
        "Link: https://keras.io/api/metrics/#usage-with-compile-amp-fit"
      ]
    },
    {
      "cell_type": "markdown",
      "metadata": {
        "id": "n9o45OHdjDhA"
      },
      "source": [
        "### Train your model\n",
        "\n",
        "- epochs: 1000\n",
        "- batch size: 32\n",
        "- Use test data as validation data\n",
        "- Also add callback, such that if validation loss doesn't decreases consecutively 10 times, stop the training and return the weights for the previous best model"
      ]
    },
    {
      "cell_type": "code",
      "metadata": {
        "id": "-Y6tA30XjOH2",
        "colab": {
          "base_uri": "https://localhost:8080/"
        },
        "outputId": "5c89912b-3cb0-4cd9-e4b3-21708d4ca1d0"
      },
      "source": [
        "#Train the model\n",
        "history = model.fit(x_train_sc,y_train,\n",
        "          validation_data=(x_test_Sc,y_test),\n",
        "          epochs=100,\n",
        "          batch_size=32,\n",
        "          verbose=1)"
      ],
      "execution_count": 208,
      "outputs": [
        {
          "output_type": "stream",
          "text": [
            "Epoch 1/100\n",
            "186/186 [==============================] - 2s 5ms/step - loss: 638857.0137 - r_2_Score: -1.1929 - val_loss: 654007.5000 - val_r_2_Score: -1.0343\n",
            "Epoch 2/100\n",
            "186/186 [==============================] - 1s 5ms/step - loss: 648082.0287 - r_2_Score: -1.1187 - val_loss: 653164.4375 - val_r_2_Score: -1.0314\n",
            "Epoch 3/100\n",
            "186/186 [==============================] - 1s 5ms/step - loss: 647349.6166 - r_2_Score: -1.1156 - val_loss: 651727.0625 - val_r_2_Score: -1.0261\n",
            "Epoch 4/100\n",
            "186/186 [==============================] - 1s 5ms/step - loss: 633943.5328 - r_2_Score: -1.1537 - val_loss: 649752.8125 - val_r_2_Score: -1.0191\n",
            "Epoch 5/100\n",
            "186/186 [==============================] - 1s 5ms/step - loss: 652438.2136 - r_2_Score: -1.0351 - val_loss: 647247.0000 - val_r_2_Score: -1.0101\n",
            "Epoch 6/100\n",
            "186/186 [==============================] - 1s 5ms/step - loss: 623191.0662 - r_2_Score: -1.3727 - val_loss: 644215.8125 - val_r_2_Score: -0.9995\n",
            "Epoch 7/100\n",
            "186/186 [==============================] - 1s 4ms/step - loss: 639846.1430 - r_2_Score: -1.1730 - val_loss: 641000.4375 - val_r_2_Score: -0.9882\n",
            "Epoch 8/100\n",
            "186/186 [==============================] - 1s 5ms/step - loss: 635940.2323 - r_2_Score: -1.1031 - val_loss: 637270.5000 - val_r_2_Score: -0.9751\n",
            "Epoch 9/100\n",
            "186/186 [==============================] - 1s 5ms/step - loss: 657254.5201 - r_2_Score: -1.0629 - val_loss: 632902.3750 - val_r_2_Score: -0.9602\n",
            "Epoch 10/100\n",
            "186/186 [==============================] - 1s 5ms/step - loss: 615872.1180 - r_2_Score: -1.2543 - val_loss: 628454.6250 - val_r_2_Score: -0.9448\n",
            "Epoch 11/100\n",
            "186/186 [==============================] - 1s 4ms/step - loss: 597335.8722 - r_2_Score: -1.3037 - val_loss: 623491.6250 - val_r_2_Score: -0.9278\n",
            "Epoch 12/100\n",
            "186/186 [==============================] - 1s 5ms/step - loss: 608132.0368 - r_2_Score: -1.0515 - val_loss: 618317.4375 - val_r_2_Score: -0.9100\n",
            "Epoch 13/100\n",
            "186/186 [==============================] - 1s 4ms/step - loss: 599985.6688 - r_2_Score: -1.1432 - val_loss: 612728.2500 - val_r_2_Score: -0.8908\n",
            "Epoch 14/100\n",
            "186/186 [==============================] - 1s 5ms/step - loss: 605457.1390 - r_2_Score: -1.0673 - val_loss: 606173.2500 - val_r_2_Score: -0.8685\n",
            "Epoch 15/100\n",
            "186/186 [==============================] - 1s 5ms/step - loss: 597856.8670 - r_2_Score: -0.9353 - val_loss: 598052.6250 - val_r_2_Score: -0.8418\n",
            "Epoch 16/100\n",
            "186/186 [==============================] - 1s 5ms/step - loss: 588680.5291 - r_2_Score: -0.9215 - val_loss: 591520.6875 - val_r_2_Score: -0.8200\n",
            "Epoch 17/100\n",
            "186/186 [==============================] - 1s 5ms/step - loss: 554576.2919 - r_2_Score: -1.0297 - val_loss: 587217.3750 - val_r_2_Score: -0.8008\n",
            "Epoch 18/100\n",
            "186/186 [==============================] - 1s 5ms/step - loss: 574895.0030 - r_2_Score: -1.0048 - val_loss: 580819.5625 - val_r_2_Score: -0.7794\n",
            "Epoch 19/100\n",
            "186/186 [==============================] - 1s 4ms/step - loss: 577378.9500 - r_2_Score: -0.9002 - val_loss: 574885.3125 - val_r_2_Score: -0.7788\n",
            "Epoch 20/100\n",
            "186/186 [==============================] - 1s 5ms/step - loss: 571308.4599 - r_2_Score: -0.8836 - val_loss: 568433.1875 - val_r_2_Score: -0.8011\n",
            "Epoch 21/100\n",
            "186/186 [==============================] - 1s 4ms/step - loss: 553196.9392 - r_2_Score: -0.9201 - val_loss: 588809.8125 - val_r_2_Score: -3.1092\n",
            "Epoch 22/100\n",
            "186/186 [==============================] - 1s 5ms/step - loss: 531670.5612 - r_2_Score: -0.8453 - val_loss: 547164.6875 - val_r_2_Score: -0.6718\n",
            "Epoch 23/100\n",
            "186/186 [==============================] - 1s 4ms/step - loss: 551301.6594 - r_2_Score: -0.7945 - val_loss: 542134.3125 - val_r_2_Score: -0.6520\n",
            "Epoch 24/100\n",
            "186/186 [==============================] - 1s 4ms/step - loss: 537357.7336 - r_2_Score: -0.7400 - val_loss: 555318.0000 - val_r_2_Score: -3.5929\n",
            "Epoch 25/100\n",
            "186/186 [==============================] - 1s 5ms/step - loss: 508601.0057 - r_2_Score: -0.7183 - val_loss: 520335.4062 - val_r_2_Score: -0.5862\n",
            "Epoch 26/100\n",
            "186/186 [==============================] - 1s 5ms/step - loss: 521816.8046 - r_2_Score: -0.6689 - val_loss: 516882.0000 - val_r_2_Score: -0.5623\n",
            "Epoch 27/100\n",
            "186/186 [==============================] - 1s 5ms/step - loss: 496004.5901 - r_2_Score: -0.6384 - val_loss: 508762.3125 - val_r_2_Score: -0.6315\n",
            "Epoch 28/100\n",
            "186/186 [==============================] - 1s 5ms/step - loss: 519137.7904 - r_2_Score: -0.5594 - val_loss: 501726.5938 - val_r_2_Score: -0.5939\n",
            "Epoch 29/100\n",
            "186/186 [==============================] - 1s 5ms/step - loss: 486515.6141 - r_2_Score: -0.5710 - val_loss: 479796.4375 - val_r_2_Score: -0.4572\n",
            "Epoch 30/100\n",
            "186/186 [==============================] - 1s 5ms/step - loss: 481984.2017 - r_2_Score: -0.5025 - val_loss: 479455.7812 - val_r_2_Score: -0.4386\n",
            "Epoch 31/100\n",
            "186/186 [==============================] - 1s 5ms/step - loss: 471103.4332 - r_2_Score: -0.5198 - val_loss: 479851.2188 - val_r_2_Score: -0.7951\n",
            "Epoch 32/100\n",
            "186/186 [==============================] - 1s 5ms/step - loss: 451879.5832 - r_2_Score: -0.4848 - val_loss: 471922.5938 - val_r_2_Score: -0.7019\n",
            "Epoch 33/100\n",
            "186/186 [==============================] - 1s 5ms/step - loss: 455828.6917 - r_2_Score: -0.4085 - val_loss: 479983.2500 - val_r_2_Score: -5.0452\n",
            "Epoch 34/100\n",
            "186/186 [==============================] - 1s 5ms/step - loss: 460439.6927 - r_2_Score: -0.3758 - val_loss: 445305.7188 - val_r_2_Score: -0.3175\n",
            "Epoch 35/100\n",
            "186/186 [==============================] - 1s 5ms/step - loss: 438097.6791 - r_2_Score: -0.3283 - val_loss: 424921.4062 - val_r_2_Score: -0.4261\n",
            "Epoch 36/100\n",
            "186/186 [==============================] - 1s 5ms/step - loss: 437115.6823 - r_2_Score: -0.3045 - val_loss: 413883.7188 - val_r_2_Score: -0.2603\n",
            "Epoch 37/100\n",
            "186/186 [==============================] - 1s 5ms/step - loss: 411414.8793 - r_2_Score: -0.2725 - val_loss: 400682.5938 - val_r_2_Score: -0.2033\n",
            "Epoch 38/100\n",
            "186/186 [==============================] - 1s 4ms/step - loss: 392778.8262 - r_2_Score: -0.2223 - val_loss: 394430.1875 - val_r_2_Score: -0.1761\n",
            "Epoch 39/100\n",
            "186/186 [==============================] - 1s 5ms/step - loss: 386138.2878 - r_2_Score: -0.1692 - val_loss: 380154.3750 - val_r_2_Score: -0.1409\n",
            "Epoch 40/100\n",
            "186/186 [==============================] - 1s 5ms/step - loss: 358983.2238 - r_2_Score: -0.1575 - val_loss: 405272.1250 - val_r_2_Score: -1.8430\n",
            "Epoch 41/100\n",
            "186/186 [==============================] - 1s 5ms/step - loss: 353836.9555 - r_2_Score: -0.1114 - val_loss: 367190.9062 - val_r_2_Score: -0.0816\n",
            "Epoch 42/100\n",
            "186/186 [==============================] - 1s 5ms/step - loss: 350353.6357 - r_2_Score: -0.0735 - val_loss: 342058.6562 - val_r_2_Score: -0.0274\n",
            "Epoch 43/100\n",
            "186/186 [==============================] - 1s 5ms/step - loss: 361993.7823 - r_2_Score: -0.0545 - val_loss: 348022.5000 - val_r_2_Score: -0.0281\n",
            "Epoch 44/100\n",
            "186/186 [==============================] - 1s 5ms/step - loss: 335692.1419 - r_2_Score: -0.0014 - val_loss: 342986.7500 - val_r_2_Score: 0.0082\n",
            "Epoch 45/100\n",
            "186/186 [==============================] - 1s 5ms/step - loss: 346487.5757 - r_2_Score: 0.0257 - val_loss: 327109.6250 - val_r_2_Score: 0.0417\n",
            "Epoch 46/100\n",
            "186/186 [==============================] - 1s 5ms/step - loss: 311396.6369 - r_2_Score: 0.0699 - val_loss: 321443.1562 - val_r_2_Score: 0.0683\n",
            "Epoch 47/100\n",
            "186/186 [==============================] - 1s 5ms/step - loss: 318333.4873 - r_2_Score: 0.0975 - val_loss: 300201.9688 - val_r_2_Score: 0.1199\n",
            "Epoch 48/100\n",
            "186/186 [==============================] - 1s 5ms/step - loss: 291528.5500 - r_2_Score: 0.1431 - val_loss: 289249.3438 - val_r_2_Score: 0.1519\n",
            "Epoch 49/100\n",
            "186/186 [==============================] - 1s 4ms/step - loss: 286443.1606 - r_2_Score: 0.1847 - val_loss: 295453.7500 - val_r_2_Score: 0.1671\n",
            "Epoch 50/100\n",
            "186/186 [==============================] - 1s 5ms/step - loss: 289209.1646 - r_2_Score: 0.1947 - val_loss: 287468.9375 - val_r_2_Score: 0.1944\n",
            "Epoch 51/100\n",
            "186/186 [==============================] - 1s 4ms/step - loss: 278293.1644 - r_2_Score: 0.2251 - val_loss: 269381.4375 - val_r_2_Score: 0.2362\n",
            "Epoch 52/100\n",
            "186/186 [==============================] - 1s 5ms/step - loss: 286845.6730 - r_2_Score: 0.2314 - val_loss: 268059.5312 - val_r_2_Score: 0.2526\n",
            "Epoch 53/100\n",
            "186/186 [==============================] - 1s 5ms/step - loss: 272004.2108 - r_2_Score: 0.2791 - val_loss: 266784.9375 - val_r_2_Score: 0.2623\n",
            "Epoch 54/100\n",
            "186/186 [==============================] - 1s 5ms/step - loss: 258888.4858 - r_2_Score: 0.3050 - val_loss: 258666.7031 - val_r_2_Score: 0.2991\n",
            "Epoch 55/100\n",
            "186/186 [==============================] - 1s 5ms/step - loss: 260378.8270 - r_2_Score: 0.3066 - val_loss: 256847.3438 - val_r_2_Score: 0.3103\n",
            "Epoch 56/100\n",
            "186/186 [==============================] - 1s 5ms/step - loss: 252836.2963 - r_2_Score: 0.3414 - val_loss: 244374.1875 - val_r_2_Score: 0.3609\n",
            "Epoch 57/100\n",
            "186/186 [==============================] - 1s 5ms/step - loss: 243566.7578 - r_2_Score: 0.3725 - val_loss: 243192.6562 - val_r_2_Score: 0.3781\n",
            "Epoch 58/100\n",
            "186/186 [==============================] - 1s 5ms/step - loss: 255433.2741 - r_2_Score: 0.3764 - val_loss: 248679.0156 - val_r_2_Score: 0.3761\n",
            "Epoch 59/100\n",
            "186/186 [==============================] - 1s 5ms/step - loss: 249690.5559 - r_2_Score: 0.3975 - val_loss: 237880.0156 - val_r_2_Score: 0.4054\n",
            "Epoch 60/100\n",
            "186/186 [==============================] - 1s 5ms/step - loss: 249491.8463 - r_2_Score: 0.4228 - val_loss: 234744.2656 - val_r_2_Score: 0.4201\n",
            "Epoch 61/100\n",
            "186/186 [==============================] - 1s 5ms/step - loss: 235288.8946 - r_2_Score: 0.4336 - val_loss: 234404.6094 - val_r_2_Score: 0.4391\n",
            "Epoch 62/100\n",
            "186/186 [==============================] - 1s 5ms/step - loss: 220116.6865 - r_2_Score: 0.4869 - val_loss: 230075.0000 - val_r_2_Score: 0.4354\n",
            "Epoch 63/100\n",
            "186/186 [==============================] - 1s 5ms/step - loss: 223064.1054 - r_2_Score: 0.4693 - val_loss: 226675.3594 - val_r_2_Score: 0.4685\n",
            "Epoch 64/100\n",
            "186/186 [==============================] - 1s 5ms/step - loss: 235711.0287 - r_2_Score: 0.4870 - val_loss: 223934.5312 - val_r_2_Score: 0.4876\n",
            "Epoch 65/100\n",
            "186/186 [==============================] - 1s 5ms/step - loss: 234359.5723 - r_2_Score: 0.4899 - val_loss: 214815.2344 - val_r_2_Score: 0.5176\n",
            "Epoch 66/100\n",
            "186/186 [==============================] - 1s 5ms/step - loss: 226283.8268 - r_2_Score: 0.5105 - val_loss: 213626.5312 - val_r_2_Score: 0.5243\n",
            "Epoch 67/100\n",
            "186/186 [==============================] - 1s 5ms/step - loss: 238617.0651 - r_2_Score: 0.4843 - val_loss: 212942.0469 - val_r_2_Score: 0.5310\n",
            "Epoch 68/100\n",
            "186/186 [==============================] - 1s 5ms/step - loss: 216650.4570 - r_2_Score: 0.5292 - val_loss: 212324.3906 - val_r_2_Score: 0.5313\n",
            "Epoch 69/100\n",
            "186/186 [==============================] - 1s 5ms/step - loss: 217970.6353 - r_2_Score: 0.5439 - val_loss: 208870.5938 - val_r_2_Score: 0.5604\n",
            "Epoch 70/100\n",
            "186/186 [==============================] - 1s 5ms/step - loss: 225546.4298 - r_2_Score: 0.5225 - val_loss: 204584.8750 - val_r_2_Score: 0.5726\n",
            "Epoch 71/100\n",
            "186/186 [==============================] - 1s 5ms/step - loss: 201704.7515 - r_2_Score: 0.5820 - val_loss: 202237.3438 - val_r_2_Score: 0.5839\n",
            "Epoch 72/100\n",
            "186/186 [==============================] - 1s 5ms/step - loss: 213115.7294 - r_2_Score: 0.5501 - val_loss: 204744.6562 - val_r_2_Score: 0.5812\n",
            "Epoch 73/100\n",
            "186/186 [==============================] - 1s 5ms/step - loss: 213437.0307 - r_2_Score: 0.5499 - val_loss: 200526.4688 - val_r_2_Score: 0.6047\n",
            "Epoch 74/100\n",
            "186/186 [==============================] - 1s 5ms/step - loss: 215392.2263 - r_2_Score: 0.5593 - val_loss: 195520.5156 - val_r_2_Score: 0.6175\n",
            "Epoch 75/100\n",
            "186/186 [==============================] - 1s 5ms/step - loss: 207376.3246 - r_2_Score: 0.5666 - val_loss: 195783.3750 - val_r_2_Score: 0.6208\n",
            "Epoch 76/100\n",
            "186/186 [==============================] - 1s 5ms/step - loss: 216387.4218 - r_2_Score: 0.5799 - val_loss: 195369.3906 - val_r_2_Score: 0.6215\n",
            "Epoch 77/100\n",
            "186/186 [==============================] - 1s 5ms/step - loss: 213131.5986 - r_2_Score: 0.5661 - val_loss: 191043.5156 - val_r_2_Score: 0.6379\n",
            "Epoch 78/100\n",
            "186/186 [==============================] - 1s 5ms/step - loss: 210612.5113 - r_2_Score: 0.5816 - val_loss: 188959.9688 - val_r_2_Score: 0.6442\n",
            "Epoch 79/100\n",
            "186/186 [==============================] - 1s 5ms/step - loss: 201760.6679 - r_2_Score: 0.5982 - val_loss: 192444.8594 - val_r_2_Score: 0.6293\n",
            "Epoch 80/100\n",
            "186/186 [==============================] - 1s 5ms/step - loss: 207358.3466 - r_2_Score: 0.5907 - val_loss: 189862.6406 - val_r_2_Score: 0.6455\n",
            "Epoch 81/100\n",
            "186/186 [==============================] - 1s 5ms/step - loss: 206749.9073 - r_2_Score: 0.5857 - val_loss: 192283.0156 - val_r_2_Score: 0.6418\n",
            "Epoch 82/100\n",
            "186/186 [==============================] - 1s 5ms/step - loss: 200366.3547 - r_2_Score: 0.6068 - val_loss: 190111.3594 - val_r_2_Score: 0.6557\n",
            "Epoch 83/100\n",
            "186/186 [==============================] - 1s 5ms/step - loss: 201427.6382 - r_2_Score: 0.5821 - val_loss: 191642.0938 - val_r_2_Score: 0.6502\n",
            "Epoch 84/100\n",
            "186/186 [==============================] - 1s 5ms/step - loss: 209218.1667 - r_2_Score: 0.6121 - val_loss: 185670.0938 - val_r_2_Score: 0.6703\n",
            "Epoch 85/100\n",
            "186/186 [==============================] - 1s 5ms/step - loss: 199354.4472 - r_2_Score: 0.5778 - val_loss: 174984.8281 - val_r_2_Score: 0.7127\n",
            "Epoch 86/100\n",
            "186/186 [==============================] - 1s 5ms/step - loss: 209519.4244 - r_2_Score: 0.6048 - val_loss: 182800.9375 - val_r_2_Score: 0.6933\n",
            "Epoch 87/100\n",
            "186/186 [==============================] - 1s 5ms/step - loss: 195517.3953 - r_2_Score: 0.6025 - val_loss: 179420.9688 - val_r_2_Score: 0.6991\n",
            "Epoch 88/100\n",
            "186/186 [==============================] - 1s 5ms/step - loss: 192844.7071 - r_2_Score: 0.5974 - val_loss: 175575.2969 - val_r_2_Score: 0.7157\n",
            "Epoch 89/100\n",
            "186/186 [==============================] - 1s 5ms/step - loss: 209866.9047 - r_2_Score: 0.6113 - val_loss: 174606.9688 - val_r_2_Score: 0.7240\n",
            "Epoch 90/100\n",
            "186/186 [==============================] - 1s 5ms/step - loss: 189270.3990 - r_2_Score: 0.6396 - val_loss: 177107.0781 - val_r_2_Score: 0.7089\n",
            "Epoch 91/100\n",
            "186/186 [==============================] - 1s 5ms/step - loss: 194543.0709 - r_2_Score: 0.5865 - val_loss: 183089.9375 - val_r_2_Score: 0.6958\n",
            "Epoch 92/100\n",
            "186/186 [==============================] - 1s 5ms/step - loss: 199780.2452 - r_2_Score: 0.5664 - val_loss: 167814.9375 - val_r_2_Score: 0.7377\n",
            "Epoch 93/100\n",
            "186/186 [==============================] - 1s 5ms/step - loss: 191325.4322 - r_2_Score: 0.6178 - val_loss: 178393.3125 - val_r_2_Score: 0.7041\n",
            "Epoch 94/100\n",
            "186/186 [==============================] - 1s 5ms/step - loss: 201546.6603 - r_2_Score: 0.5788 - val_loss: 168712.9844 - val_r_2_Score: 0.7378\n",
            "Epoch 95/100\n",
            "186/186 [==============================] - 1s 5ms/step - loss: 195138.7854 - r_2_Score: 0.5909 - val_loss: 164937.4375 - val_r_2_Score: 0.7535\n",
            "Epoch 96/100\n",
            "186/186 [==============================] - 1s 5ms/step - loss: 210815.4485 - r_2_Score: 0.5817 - val_loss: 161208.9062 - val_r_2_Score: 0.7618\n",
            "Epoch 97/100\n",
            "186/186 [==============================] - 1s 5ms/step - loss: 183301.9562 - r_2_Score: 0.5532 - val_loss: 164588.5469 - val_r_2_Score: 0.7540\n",
            "Epoch 98/100\n",
            "186/186 [==============================] - 1s 5ms/step - loss: 186649.4742 - r_2_Score: 0.6207 - val_loss: 187112.0781 - val_r_2_Score: 0.6922\n",
            "Epoch 99/100\n",
            "186/186 [==============================] - 1s 5ms/step - loss: 193341.0043 - r_2_Score: 0.5781 - val_loss: 168565.9375 - val_r_2_Score: 0.7443\n",
            "Epoch 100/100\n",
            "186/186 [==============================] - 1s 5ms/step - loss: 196330.1157 - r_2_Score: 0.5872 - val_loss: 165275.0625 - val_r_2_Score: 0.7581\n"
          ],
          "name": "stdout"
        }
      ]
    },
    {
      "cell_type": "markdown",
      "metadata": {
        "id": "AW4SEP8kT2ls"
      },
      "source": [
        "## Question 6"
      ]
    },
    {
      "cell_type": "markdown",
      "metadata": {
        "id": "EJDoix_7JU61"
      },
      "source": [
        "### Evaluate the model\n",
        "- Evaluate the model on test data\n",
        "- Visualize the model's learning"
      ]
    },
    {
      "cell_type": "code",
      "metadata": {
        "id": "HdH8pYBIjHGL",
        "colab": {
          "base_uri": "https://localhost:8080/"
        },
        "outputId": "c2c6e640-a7d6-47f3-aab1-ba831511e491"
      },
      "source": [
        "#Model prediction\n",
        "model.evaluate(x_test_Sc, y_test)"
      ],
      "execution_count": 209,
      "outputs": [
        {
          "output_type": "stream",
          "text": [
            "62/62 [==============================] - 0s 2ms/step - loss: 165275.0625 - r_2_Score: 0.7581\n"
          ],
          "name": "stdout"
        },
        {
          "output_type": "execute_result",
          "data": {
            "text/plain": [
              "[165275.0625, 0.7581117749214172]"
            ]
          },
          "metadata": {
            "tags": []
          },
          "execution_count": 209
        }
      ]
    },
    {
      "cell_type": "code",
      "metadata": {
        "id": "ZQdyrVLc6Cb1"
      },
      "source": [
        "from sklearn.metrics import r2_score\n"
      ],
      "execution_count": 210,
      "outputs": []
    },
    {
      "cell_type": "code",
      "metadata": {
        "colab": {
          "base_uri": "https://localhost:8080/"
        },
        "id": "1mehDHsj-lvq",
        "outputId": "9b2913e0-7e2d-4a79-c813-74e1afd233ab"
      },
      "source": [
        "y_pred = model.predict(x_test_Sc)\n",
        "r2_score(y_test, y_pred)"
      ],
      "execution_count": 211,
      "outputs": [
        {
          "output_type": "execute_result",
          "data": {
            "text/plain": [
              "0.7138905263050319"
            ]
          },
          "metadata": {
            "tags": []
          },
          "execution_count": 211
        }
      ]
    },
    {
      "cell_type": "markdown",
      "metadata": {
        "id": "E4-3G8h0KPS_"
      },
      "source": [
        "- Hint: The R2 score will get affected by batch size. \n",
        "\n",
        "**Batch Size**: Number of samples considered in one iteration"
      ]
    },
    {
      "cell_type": "markdown",
      "metadata": {
        "id": "MHmWkGM9E61i"
      },
      "source": [
        "### Check the R2 score on complete test data"
      ]
    },
    {
      "cell_type": "markdown",
      "metadata": {
        "id": "hUpDD74Xjh01"
      },
      "source": [
        "### Visualize model learning\n",
        "- Visualize model learning using train and test r2 score\n",
        "- Visualize model learning using train and test loss"
      ]
    },
    {
      "cell_type": "markdown",
      "metadata": {
        "id": "mLyDSOeh6KKc"
      },
      "source": [
        "##  Model tuning and Hyperparameter Tuning\n",
        "## Question 7 (Optional)"
      ]
    },
    {
      "cell_type": "markdown",
      "metadata": {
        "id": "U9_FYXve6TPD"
      },
      "source": [
        "### Create another Deep Neural Network Model for Regression to experiment with other hyper-parameters\n",
        "- Initialize a Sequential model\n",
        "- Add a batch normalization layer\n",
        "- Add 3 hidden layer with activation leaky-relu (Number of neurons = 64,128,32 respectively)\n",
        "- Add dropout layer after each hidden layer\n",
        "- Add a Dense layer with one neuron as output, use activation linear\n",
        "  \n"
      ]
    },
    {
      "cell_type": "code",
      "metadata": {
        "id": "smKhJZSx2EZk"
      },
      "source": [
        ""
      ],
      "execution_count": null,
      "outputs": []
    },
    {
      "cell_type": "code",
      "metadata": {
        "id": "k3YL1YQB2Fau"
      },
      "source": [
        ""
      ],
      "execution_count": null,
      "outputs": []
    },
    {
      "cell_type": "markdown",
      "metadata": {
        "id": "d-5tN-Wx8_8X"
      },
      "source": [
        "### Compile the model\n",
        "\n",
        "- Compile the model\n",
        "- Use \"adam\" optimizer \n",
        "- for calculating loss, use mean absolute error\n",
        "- use R2 score (coefficient of determination) as the metric"
      ]
    },
    {
      "cell_type": "code",
      "metadata": {
        "id": "v3RAGJxN8vq6"
      },
      "source": [
        ""
      ],
      "execution_count": null,
      "outputs": []
    },
    {
      "cell_type": "markdown",
      "metadata": {
        "id": "QjDCS5gy91KU"
      },
      "source": [
        "### Train your model\n",
        "\n",
        "- epochs: 1000\n",
        "- batch size: 16\n",
        "- Use test data as validation data\n",
        "- Also add callback, such that if validation loss doesn't decreases consecutively 10 times, stop the training and return the weights for the previous best model\n",
        "- Add checkpoints to save the model after every epoch\n"
      ]
    },
    {
      "cell_type": "code",
      "metadata": {
        "id": "amNM6S2w90So"
      },
      "source": [
        ""
      ],
      "execution_count": null,
      "outputs": []
    },
    {
      "cell_type": "markdown",
      "metadata": {
        "id": "GHbYwXdgDQhs"
      },
      "source": [
        "### Check the R2 score on complete test data"
      ]
    },
    {
      "cell_type": "code",
      "metadata": {
        "id": "p7Ly-csS90PM"
      },
      "source": [
        ""
      ],
      "execution_count": null,
      "outputs": []
    },
    {
      "cell_type": "markdown",
      "metadata": {
        "id": "mcZazFM7DiVr"
      },
      "source": [
        "### Visualize model learning\n",
        "- Visualize model learning using train and test r2 score\n",
        "- Visualize model learning using train and test loss"
      ]
    },
    {
      "cell_type": "code",
      "metadata": {
        "id": "cH-8qHgp90Jv"
      },
      "source": [
        ""
      ],
      "execution_count": null,
      "outputs": []
    },
    {
      "cell_type": "markdown",
      "metadata": {
        "id": "POU_v9owFLWp"
      },
      "source": [
        "### Create another Deep Neural Network Model for Regression to experiment with other hyper-parameters\n",
        "- Initialize a Sequential model\n",
        "- Add a batch normalization layer\n",
        "- Intialize weights using HeUniform with seed = 7\n",
        "- Add 4 hidden layer with activation relu (Number of neurons = 256,128,64,32 in each layer respectively)\n",
        "- Add dropout layer after each hidden layer\n",
        "- Add a Dense layer with one neuron as output, use activation linear\n",
        "  \n"
      ]
    },
    {
      "cell_type": "code",
      "metadata": {
        "id": "EJiZ1JZZECpm"
      },
      "source": [
        ""
      ],
      "execution_count": null,
      "outputs": []
    },
    {
      "cell_type": "markdown",
      "metadata": {
        "id": "yNoD20dGHKNk"
      },
      "source": [
        "### Compile the model\n",
        "\n",
        "- Compile the model\n",
        "- Use \"adam\" optimizer with learning rate = 0.002\n",
        "- for calculating loss, use mean squared error\n",
        "- use R2 score (coefficient of determination) as the metric"
      ]
    },
    {
      "cell_type": "code",
      "metadata": {
        "id": "EL--zAmbECm3"
      },
      "source": [
        ""
      ],
      "execution_count": null,
      "outputs": []
    },
    {
      "cell_type": "markdown",
      "metadata": {
        "id": "TNhawruvHgLR"
      },
      "source": [
        "### Train your model\n",
        "\n",
        "- epochs: 1000\n",
        "- batch size: 64\n",
        "- Use test data as validation data\n",
        "- Also add callback, such that if validation loss doesn't decreases consecutively 10 times, stop the training and return the weights for the previous best model\n",
        "\n"
      ]
    },
    {
      "cell_type": "code",
      "metadata": {
        "id": "rf_Y0p7yECiz"
      },
      "source": [
        ""
      ],
      "execution_count": null,
      "outputs": []
    },
    {
      "cell_type": "markdown",
      "metadata": {
        "id": "MR6_a6QxICXv"
      },
      "source": [
        "### Check the R2 score on complete test data"
      ]
    },
    {
      "cell_type": "code",
      "metadata": {
        "id": "eSNJsVwnECf-"
      },
      "source": [
        ""
      ],
      "execution_count": null,
      "outputs": []
    },
    {
      "cell_type": "markdown",
      "metadata": {
        "id": "xWZIMT2rIYDc"
      },
      "source": [
        "### Visualize model learning\n",
        "- Visualize model learning using train and test r2 score\n",
        "- Visualize model learning using train and test loss"
      ]
    },
    {
      "cell_type": "code",
      "metadata": {
        "id": "uDMefTaLECdK"
      },
      "source": [
        ""
      ],
      "execution_count": null,
      "outputs": []
    }
  ]
}